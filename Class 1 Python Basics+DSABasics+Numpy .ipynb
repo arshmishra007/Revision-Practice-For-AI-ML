{
 "cells": [
  {
   "cell_type": "markdown",
   "id": "06b6a31f-3151-40ff-8009-6148d6eda5ee",
   "metadata": {},
   "source": [
    "# Python Basics"
   ]
  },
  {
   "cell_type": "markdown",
   "id": "c873c6f2-46eb-4de9-a912-9633c30dd211",
   "metadata": {},
   "source": [
    "## Datatypes in Python "
   ]
  },
  {
   "cell_type": "markdown",
   "id": "f8e6797d-5b6e-4b82-967e-30605b2337fc",
   "metadata": {},
   "source": [
    "Primitive Datatypes (Simplest Form holding a single value): int , float , string , bool <br/>\n",
    "Non Primitive Datatypes (Complex Form can hold more than one value): List , Tuple , Set , Dictionary"
   ]
  },
  {
   "cell_type": "code",
   "execution_count": 1,
   "id": "fd68676c-4388-499a-b347-edb86b30f7ed",
   "metadata": {},
   "outputs": [
    {
     "name": "stdout",
     "output_type": "stream",
     "text": [
      "Hello World!!\n"
     ]
    }
   ],
   "source": [
    "print('Hello World!!')"
   ]
  },
  {
   "cell_type": "code",
   "execution_count": 2,
   "id": "e497254c-93bf-47f1-aaee-48a4b752c275",
   "metadata": {},
   "outputs": [
    {
     "name": "stdout",
     "output_type": "stream",
     "text": [
      "$$\n"
     ]
    }
   ],
   "source": [
    "# for printing the dollar symbol twice 1 st way\n",
    "print('$$')"
   ]
  },
  {
   "cell_type": "code",
   "execution_count": 3,
   "id": "d0772e8c-886e-4c7a-b225-c9ff82ce5c91",
   "metadata": {},
   "outputs": [
    {
     "name": "stdout",
     "output_type": "stream",
     "text": [
      "$$\n"
     ]
    }
   ],
   "source": [
    "# second way \n",
    "print('$'*2)"
   ]
  },
  {
   "cell_type": "markdown",
   "id": "71842409-3af2-4795-b423-53909837aaef",
   "metadata": {},
   "source": [
    "Any character wether it is numeric or string once enclosed withing the single quotes or double quotes will be considered as String"
   ]
  },
  {
   "cell_type": "markdown",
   "id": "d2a241a5-c5ef-453e-adb8-3519bb6d8edc",
   "metadata": {},
   "source": [
    "### Variables\n",
    "A Variable is a named memory location which holds the data value of a particular datatype.<br/>\n",
    "Variable in Python does not need initialization they gets assigned automatically."
   ]
  },
  {
   "cell_type": "code",
   "execution_count": 4,
   "id": "2287a7d1-0653-4cb9-b2bf-db3cfd57f5c1",
   "metadata": {},
   "outputs": [
    {
     "name": "stdout",
     "output_type": "stream",
     "text": [
      " Datatype of Var 1 <class 'str'> Datatype of Var 2 is <class 'int'> Datatype of Var3 is <class 'float'> Datatype of Var 4 is <class 'bool'>\n"
     ]
    }
   ],
   "source": [
    "var1 = 'Arsh'\n",
    "var2 = 10\n",
    "var3 = 10.12\n",
    "var4 = True\n",
    "print(f' Datatype of Var 1 {type(var1)} Datatype of Var 2 is {type(var2)} Datatype of Var3 is {type(var3)} Datatype of Var 4 is {type(var4)}')"
   ]
  },
  {
   "cell_type": "code",
   "execution_count": 5,
   "id": "dd7cf86c-073a-4565-ac2f-1b03ad1e5d08",
   "metadata": {},
   "outputs": [],
   "source": [
    "# Note : to get the input from the user use : input()"
   ]
  },
  {
   "cell_type": "markdown",
   "id": "4d367748-1241-44b5-8f66-83f07c2c1e27",
   "metadata": {},
   "source": [
    "## Arithmatic Operations\n",
    "### PEDMAS - Parenthesis Exponential Division Multiplication Addition Subtraction (Order of Operation)"
   ]
  },
  {
   "cell_type": "code",
   "execution_count": 6,
   "id": "03dccf11-62d4-4a95-ab71-93d07be21724",
   "metadata": {},
   "outputs": [
    {
     "name": "stdout",
     "output_type": "stream",
     "text": [
      "Add :  11\n",
      "Subtract :  1\n",
      "Multiplication :  30\n",
      "Division :  1.2\n",
      "Modulous :  1\n",
      "Power Function :  7776\n"
     ]
    }
   ],
   "source": [
    "a = 6\n",
    "b = 5\n",
    "print('Add : ',a+b)\n",
    "print('Subtract : ',a-b)\n",
    "print('Multiplication : ',a*b)\n",
    "print('Division : ',a/b)\n",
    "print('Modulous : ',a%b)\n",
    "print('Power Function : ',a**b)"
   ]
  },
  {
   "cell_type": "markdown",
   "id": "c46b792b-caae-4a15-a736-3f67ab0374f0",
   "metadata": {},
   "source": [
    "## String Operations\n",
    "### We should look at the strings as the banner where multiple characters are linked together.\n",
    "### The String data is immutable type which means it can not be modified."
   ]
  },
  {
   "cell_type": "code",
   "execution_count": 7,
   "id": "dc999230-fac9-4190-8e9e-55c1e7ec2c75",
   "metadata": {},
   "outputs": [
    {
     "name": "stdout",
     "output_type": "stream",
     "text": [
      "arsh Yes\n"
     ]
    }
   ],
   "source": [
    "# examples \n",
    "name = 'arsh'\n",
    "is_technical = 'Yes'\n",
    "print(name , is_technical)"
   ]
  },
  {
   "cell_type": "markdown",
   "id": "08113899-6324-4e4d-bb08-dd5802947ee1",
   "metadata": {},
   "source": [
    "### Now when we want to include the words with single quotes for eg i'll didn't etc we will end up with a syntax error here.\n",
    "### To prevent this we use the concept of escape sequence by using the forward slash \\"
   ]
  },
  {
   "cell_type": "code",
   "execution_count": 8,
   "id": "33329f96-919e-4532-9354-7567ef00dee7",
   "metadata": {},
   "outputs": [
    {
     "name": "stdout",
     "output_type": "stream",
     "text": [
      "I didn't knew this concept\n"
     ]
    }
   ],
   "source": [
    "# example of escape sequence \n",
    "print('I didn\\'t knew this concept')"
   ]
  },
  {
   "cell_type": "code",
   "execution_count": 9,
   "id": "8d9ae088-d26e-4ecc-ac91-e0db92bbf184",
   "metadata": {},
   "outputs": [
    {
     "name": "stdout",
     "output_type": "stream",
     "text": [
      "This is line 1 \n",
      "This is line 2\n",
      "Example of tab escape sequence\tis shown here\n"
     ]
    }
   ],
   "source": [
    "# similarly we have \\n for the next line and \\t for the tab space\n",
    "print(\"This is line 1 \\nThis is line 2\")\n",
    "print(\"Example of tab escape sequence\\tis shown here\")"
   ]
  },
  {
   "cell_type": "markdown",
   "id": "06cb7a8e-eb9f-4bb4-a05c-31b204024bd3",
   "metadata": {},
   "source": [
    "### String Concatination (+)"
   ]
  },
  {
   "cell_type": "code",
   "execution_count": 10,
   "id": "5b2cff2a-461f-4155-865f-ed195573c333",
   "metadata": {},
   "outputs": [
    {
     "name": "stdout",
     "output_type": "stream",
     "text": [
      "HelloWorld!\n"
     ]
    }
   ],
   "source": [
    "string1 = 'Hello'\n",
    "string2 = 'World!'\n",
    "string3 = string1+string2\n",
    "print(string3)"
   ]
  },
  {
   "cell_type": "code",
   "execution_count": 11,
   "id": "8051c4bf-b6b6-48ca-bfb5-560c0623e307",
   "metadata": {},
   "outputs": [
    {
     "name": "stdout",
     "output_type": "stream",
     "text": [
      "HelloWorld! length is 11\n"
     ]
    }
   ],
   "source": [
    "# to find the length of the string : len()\n",
    "print(f'{string3} length is {len(string3)}')"
   ]
  },
  {
   "cell_type": "code",
   "execution_count": 12,
   "id": "ed356f96-59b9-45dd-b87c-20edc684c38e",
   "metadata": {},
   "outputs": [
    {
     "name": "stdout",
     "output_type": "stream",
     "text": [
      "H\n"
     ]
    }
   ],
   "source": [
    "# accessing the first element of string\n",
    "print(string3[0])"
   ]
  },
  {
   "cell_type": "code",
   "execution_count": 13,
   "id": "d1d5ef32-95ed-477c-a0e2-4b9428092949",
   "metadata": {},
   "outputs": [
    {
     "name": "stdout",
     "output_type": "stream",
     "text": [
      "!\n"
     ]
    }
   ],
   "source": [
    "#accessing the last element of the string\n",
    "print(string3[-1])"
   ]
  },
  {
   "cell_type": "markdown",
   "id": "8566a87a-3121-4976-ae7f-f189cf63bbee",
   "metadata": {},
   "source": [
    "### Note : the indexing in string starts from 0 to length-1 and in python we have negative indexing also where -1 refers to last element -2 second last.. and so on"
   ]
  },
  {
   "cell_type": "markdown",
   "id": "b14787fe-a2fb-4831-ace7-0b3738179f65",
   "metadata": {},
   "source": [
    "### Note : String are immutable i.e we can not change any character in the string"
   ]
  },
  {
   "cell_type": "code",
   "execution_count": 14,
   "id": "91170f7b-ec73-4674-ba44-e6d5dc2705a1",
   "metadata": {},
   "outputs": [],
   "source": [
    "# example\n",
    "#string3[0] = 'T' #  'str' object does not support item assignment"
   ]
  },
  {
   "cell_type": "markdown",
   "id": "ee14c86c-984d-4499-afb9-3182e436b33e",
   "metadata": {},
   "source": [
    "## String Slicing"
   ]
  },
  {
   "cell_type": "markdown",
   "id": "ff0d274a-cc75-481f-8a65-11897818e23e",
   "metadata": {},
   "source": [
    "#### Syntax : String[start:stop:stepsize]"
   ]
  },
  {
   "cell_type": "code",
   "execution_count": 15,
   "id": "a6279300-5752-4441-a1f9-db3bd33f6c72",
   "metadata": {},
   "outputs": [
    {
     "name": "stdout",
     "output_type": "stream",
     "text": [
      "<class 'str'>\n"
     ]
    }
   ],
   "source": [
    "# example \n",
    "test_case = '0 1 2 3 4 5 6 8 9 10 11 12 13 14 15'\n",
    "print(type(test_case))"
   ]
  },
  {
   "cell_type": "code",
   "execution_count": 16,
   "id": "5c2c0052-1f6b-4d56-8b9c-fceddf08d12c",
   "metadata": {},
   "outputs": [
    {
     "data": {
      "text/plain": [
       "'0 1 2 '"
      ]
     },
     "execution_count": 16,
     "metadata": {},
     "output_type": "execute_result"
    }
   ],
   "source": [
    "# slicing from index 0 to index 5\n",
    "test_case[0:6]"
   ]
  },
  {
   "cell_type": "code",
   "execution_count": 17,
   "id": "29865549-112a-45aa-ae3b-3cd762d09fcd",
   "metadata": {},
   "outputs": [
    {
     "data": {
      "text/plain": [
       "'0 1 2 3 4 5 6 8 9 10 11 12 13 14 1'"
      ]
     },
     "execution_count": 17,
     "metadata": {},
     "output_type": "execute_result"
    }
   ],
   "source": [
    "# to slice from beginning excluding the end\n",
    "test_case[:-1]"
   ]
  },
  {
   "cell_type": "code",
   "execution_count": 18,
   "id": "7e08b1fc-20c0-4b34-938b-259ff00d3d19",
   "metadata": {},
   "outputs": [
    {
     "data": {
      "text/plain": [
       "'0123456891 11 31 5'"
      ]
     },
     "execution_count": 18,
     "metadata": {},
     "output_type": "execute_result"
    }
   ],
   "source": [
    "# to slice from beginning to the end with step size of 2\n",
    "test_case[::2]"
   ]
  },
  {
   "cell_type": "markdown",
   "id": "2bb2e50c-2754-423d-939f-16984108c8fd",
   "metadata": {},
   "source": [
    "### Membership : We can check wether a specific character or string exists in the given string or not"
   ]
  },
  {
   "cell_type": "code",
   "execution_count": 19,
   "id": "3e93cf84-407c-4607-945c-976440770182",
   "metadata": {},
   "outputs": [
    {
     "name": "stdout",
     "output_type": "stream",
     "text": [
      "False\n"
     ]
    }
   ],
   "source": [
    "statement1 = 'Hello this is Arsh Mishra , Nice to meet you!'\n",
    "print('Hi' in statement1)"
   ]
  },
  {
   "cell_type": "code",
   "execution_count": 20,
   "id": "cae72c4c-4bc2-4f4b-b853-bf23336d6715",
   "metadata": {},
   "outputs": [
    {
     "name": "stdout",
     "output_type": "stream",
     "text": [
      "True\n"
     ]
    }
   ],
   "source": [
    "### Note it is case sensitive here\n",
    "print('Hello' in statement1)"
   ]
  },
  {
   "cell_type": "code",
   "execution_count": 21,
   "id": "b6c6591c-8785-4baf-acef-18d750875ba1",
   "metadata": {},
   "outputs": [
    {
     "name": "stdout",
     "output_type": "stream",
     "text": [
      "False\n"
     ]
    }
   ],
   "source": [
    "print('hello' in statement1)"
   ]
  },
  {
   "cell_type": "markdown",
   "id": "06c020ed-3aa3-4527-9fff-1a7a18ac46bd",
   "metadata": {},
   "source": [
    "### Let's see how to change the character case for a string or remove unwanted characters which are adjacent to the string"
   ]
  },
  {
   "cell_type": "code",
   "execution_count": 22,
   "id": "208d4a76-46c2-4dbb-94cb-553df7c28fb1",
   "metadata": {},
   "outputs": [],
   "source": [
    "# .upper() is used to change it to uppercase\n",
    "# .lower() is used to change it to lowercase\n",
    "# stip() Removes extra spaces from both sides\n",
    "# lstrip() Removed extra spaces from the left side\n",
    "# rstrip() Removes extra spaces from the right side"
   ]
  },
  {
   "cell_type": "code",
   "execution_count": 23,
   "id": "ae8eeada-48f6-4eb7-a495-6d603b01056f",
   "metadata": {},
   "outputs": [],
   "source": [
    "statement2 = '   This is a sentence with Spacessssss      '"
   ]
  },
  {
   "cell_type": "code",
   "execution_count": 24,
   "id": "c30dc0a8-9f3e-4de2-bc13-d186f340c650",
   "metadata": {},
   "outputs": [
    {
     "name": "stdout",
     "output_type": "stream",
     "text": [
      "   This is a sentence with Spacessssss      \n"
     ]
    }
   ],
   "source": [
    "print(statement2)"
   ]
  },
  {
   "cell_type": "code",
   "execution_count": 25,
   "id": "47e0249f-5a3a-41d0-a730-ee59f5747d92",
   "metadata": {},
   "outputs": [
    {
     "name": "stdout",
     "output_type": "stream",
     "text": [
      "   THIS IS A SENTENCE WITH SPACESSSSSS      \n"
     ]
    }
   ],
   "source": [
    "print(statement2.upper())"
   ]
  },
  {
   "cell_type": "code",
   "execution_count": 26,
   "id": "18145de3-521b-46c2-b7d1-03862cfec511",
   "metadata": {},
   "outputs": [
    {
     "name": "stdout",
     "output_type": "stream",
     "text": [
      "   this is a sentence with spacessssss      \n"
     ]
    }
   ],
   "source": [
    "print(statement2.lower())"
   ]
  },
  {
   "cell_type": "code",
   "execution_count": 27,
   "id": "6a1737d8-7b9f-47f4-bed5-eddea8b916a2",
   "metadata": {},
   "outputs": [
    {
     "name": "stdout",
     "output_type": "stream",
     "text": [
      "This is a sentence with Spacessssss      \n"
     ]
    }
   ],
   "source": [
    "print(statement2.lstrip())"
   ]
  },
  {
   "cell_type": "code",
   "execution_count": 28,
   "id": "19475406-3841-4eba-85de-01649a51a22a",
   "metadata": {},
   "outputs": [
    {
     "name": "stdout",
     "output_type": "stream",
     "text": [
      "   This is a sentence with Spacessssss\n"
     ]
    }
   ],
   "source": [
    "print(statement2.rstrip())"
   ]
  },
  {
   "cell_type": "code",
   "execution_count": 29,
   "id": "c5662f6f-6866-48c6-80ab-f56bec4bac06",
   "metadata": {},
   "outputs": [
    {
     "name": "stdout",
     "output_type": "stream",
     "text": [
      "This is a sentence with Spacessssss\n"
     ]
    }
   ],
   "source": [
    "print(statement2.strip())"
   ]
  },
  {
   "cell_type": "code",
   "execution_count": 30,
   "id": "8a833f42-e6f2-4af8-8f9b-1c43c0b2cb79",
   "metadata": {},
   "outputs": [],
   "source": [
    "# example\n",
    "statement3 = \"####12345678%%%%%\""
   ]
  },
  {
   "cell_type": "code",
   "execution_count": 31,
   "id": "dbb9fa95-62ec-41dd-96c5-89c1cb95d011",
   "metadata": {},
   "outputs": [
    {
     "name": "stdout",
     "output_type": "stream",
     "text": [
      "####12345678%%%%%\n"
     ]
    }
   ],
   "source": [
    "print(statement3)"
   ]
  },
  {
   "cell_type": "code",
   "execution_count": 32,
   "id": "2ccb89b7-50a8-4bf7-96e7-a9b2d7e298be",
   "metadata": {},
   "outputs": [
    {
     "name": "stdout",
     "output_type": "stream",
     "text": [
      "12345678%%%%%\n"
     ]
    }
   ],
   "source": [
    "print(statement3.lstrip('#'))"
   ]
  },
  {
   "cell_type": "code",
   "execution_count": 33,
   "id": "812f8dee-8a49-482c-8b25-d900e485f3d9",
   "metadata": {},
   "outputs": [
    {
     "name": "stdout",
     "output_type": "stream",
     "text": [
      "####12345678\n"
     ]
    }
   ],
   "source": [
    "print(statement3.rstrip('%'))"
   ]
  },
  {
   "cell_type": "code",
   "execution_count": 34,
   "id": "2cb02351-775d-4ac1-a178-9d6e4e5a86fc",
   "metadata": {},
   "outputs": [
    {
     "name": "stdout",
     "output_type": "stream",
     "text": [
      "12345678\n"
     ]
    }
   ],
   "source": [
    "print(statement3.lstrip('#').rstrip('%'))"
   ]
  },
  {
   "cell_type": "code",
   "execution_count": 35,
   "id": "ca89aba3-26ff-4f04-84a5-f9e936a1b9c7",
   "metadata": {},
   "outputs": [
    {
     "name": "stdout",
     "output_type": "stream",
     "text": [
      "['Hello', 'How', 'are', 'you']\n"
     ]
    }
   ],
   "source": [
    "# split() : It Splits the String into substrings based on the separator chosen\n",
    "statement4 = \"Hello How are you\"\n",
    "print(statement4.split(' '))"
   ]
  },
  {
   "cell_type": "code",
   "execution_count": 36,
   "id": "303b417e-02ff-4591-b643-9feee9d18e72",
   "metadata": {},
   "outputs": [
    {
     "name": "stdout",
     "output_type": "stream",
     "text": [
      "2\n"
     ]
    }
   ],
   "source": [
    "# count() : It returns the count of the characters present in the string\n",
    "print(statement4.count('H'))"
   ]
  },
  {
   "cell_type": "code",
   "execution_count": 37,
   "id": "ccd08844-36ff-4820-b9d6-f3eba4e187e5",
   "metadata": {},
   "outputs": [
    {
     "name": "stdout",
     "output_type": "stream",
     "text": [
      "3\n"
     ]
    }
   ],
   "source": [
    "print(statement4.count('o'))"
   ]
  },
  {
   "cell_type": "markdown",
   "id": "daaada9a-11ed-40fd-bdfc-97e90ce3cd26",
   "metadata": {},
   "source": [
    "## Python Data Structures"
   ]
  },
  {
   "cell_type": "markdown",
   "id": "1ac26bb0-f4a8-47b4-b0b8-c0726c871ee1",
   "metadata": {},
   "source": [
    "### Data Structures helps us in organizing the data in a well defined manner"
   ]
  },
  {
   "cell_type": "markdown",
   "id": "f7bf4584-7533-4d09-ac9f-08ddd75e5f2c",
   "metadata": {},
   "source": [
    "### Lists \n"
   ]
  },
  {
   "cell_type": "markdown",
   "id": "df67f973-0919-4f8f-8c87-dd572af01e6f",
   "metadata": {},
   "source": [
    "Lists are the ordered sequence of the mixed datatypes , lists are mutable and allows duplicates. Lists are written as comma separated elements with square brackets"
   ]
  },
  {
   "cell_type": "code",
   "execution_count": 38,
   "id": "b98262a8-1fb9-4b79-adc6-c8d91e2a48fe",
   "metadata": {},
   "outputs": [],
   "source": [
    "# empty list can be defined as \n",
    "list1 = []"
   ]
  },
  {
   "cell_type": "code",
   "execution_count": 39,
   "id": "7763012d-f5ab-4b56-bdb2-22e90ca9fa11",
   "metadata": {},
   "outputs": [
    {
     "data": {
      "text/plain": [
       "list"
      ]
     },
     "execution_count": 39,
     "metadata": {},
     "output_type": "execute_result"
    }
   ],
   "source": [
    "type(list1)"
   ]
  },
  {
   "cell_type": "code",
   "execution_count": 40,
   "id": "8e3c6e73-f500-40f5-a00b-b0ab8a084eab",
   "metadata": {},
   "outputs": [
    {
     "name": "stdout",
     "output_type": "stream",
     "text": [
      "['Hi', 'Hello', 'Hola!']\n"
     ]
    }
   ],
   "source": [
    "list2 = ['Hi','Hello','Hola!']\n",
    "print(list2)"
   ]
  },
  {
   "cell_type": "code",
   "execution_count": 41,
   "id": "64cbcb8d-13b2-41b2-ae81-0bc04b00285b",
   "metadata": {},
   "outputs": [
    {
     "name": "stdout",
     "output_type": "stream",
     "text": [
      "['Arsh', 24, 'Delhi', True]\n"
     ]
    }
   ],
   "source": [
    "# list of mixed datatypes\n",
    "list3 = ['Arsh',24,'Delhi',True]\n",
    "print(list3)"
   ]
  },
  {
   "cell_type": "code",
   "execution_count": 42,
   "id": "790fea8e-e92f-4f99-8ff6-53ba454119d7",
   "metadata": {},
   "outputs": [],
   "source": [
    "# Nested List : List withing a List\n",
    "nested_list = [\n",
    "    [1, 2, 3],       # Sublist 0\n",
    "    [4, 5, 6, 7],    # Sublist 1\n",
    "    [8, 9]           # Sublist 2\n",
    "]"
   ]
  },
  {
   "cell_type": "code",
   "execution_count": 43,
   "id": "d1ea5f00-a979-4254-a2bc-6dd3f51e35b3",
   "metadata": {},
   "outputs": [
    {
     "name": "stdout",
     "output_type": "stream",
     "text": [
      "[[1, 2, 3], [4, 5, 6, 7], [8, 9]]\n"
     ]
    }
   ],
   "source": [
    "print(nested_list)"
   ]
  },
  {
   "cell_type": "code",
   "execution_count": 44,
   "id": "c958238e-2f46-4e4f-b009-e621947bc5ae",
   "metadata": {},
   "outputs": [
    {
     "name": "stdout",
     "output_type": "stream",
     "text": [
      "Element at nested_list[0][1]: 2\n",
      "Element at nested_list[1][3]: 7\n",
      "Element at nested_list[2][0]: 8\n"
     ]
    }
   ],
   "source": [
    "# Accessing elements using indexing\n",
    "# Access 2 from Sublist 0\n",
    "print(\"Element at nested_list[0][1]:\", nested_list[0][1])\n",
    "# Access 7 from Sublist 1\n",
    "print(\"Element at nested_list[1][3]:\", nested_list[1][3]) \n",
    "# Access 8 from Sublist 2\n",
    "print(\"Element at nested_list[2][0]:\", nested_list[2][0])  "
   ]
  },
  {
   "cell_type": "code",
   "execution_count": 45,
   "id": "66ccc5a5-05de-4bc5-88f1-b667ccabc866",
   "metadata": {},
   "outputs": [
    {
     "name": "stdout",
     "output_type": "stream",
     "text": [
      "[5, 6]\n",
      "[1, 2]\n"
     ]
    }
   ],
   "source": [
    "# Slicing elements in a sublist\n",
    "# Slice [5, 6] from Sublist 1\n",
    "print(nested_list[1][1:3])\n",
    "# Slice [1, 2] from Sublist 0\n",
    "print(nested_list[0][:2])    "
   ]
  },
  {
   "cell_type": "code",
   "execution_count": 46,
   "id": "84e6f5e4-0cc7-4efd-9f26-8701c6367fdd",
   "metadata": {},
   "outputs": [
    {
     "name": "stdout",
     "output_type": "stream",
     "text": [
      "[1, 2, 3]\n",
      "[4, 5, 6, 7]\n",
      "[8, 9]\n"
     ]
    }
   ],
   "source": [
    "# Accessing each element\n",
    "print(nested_list[0])\n",
    "print(nested_list[1])\n",
    "print(nested_list[2])"
   ]
  },
  {
   "cell_type": "code",
   "execution_count": 47,
   "id": "6e304a46-b0c2-44e6-9d6c-92dfe687810f",
   "metadata": {},
   "outputs": [
    {
     "name": "stdout",
     "output_type": "stream",
     "text": [
      "[1, 2, 3, 4, 5, 6]\n"
     ]
    }
   ],
   "source": [
    "# List Concatination (+)\n",
    "L1 = [1,2,3]\n",
    "L2 = [4,5,6]\n",
    "print(L1 + L2)"
   ]
  },
  {
   "cell_type": "code",
   "execution_count": 48,
   "id": "b8d69ab2-c4bb-4250-8df7-524a6abf8e59",
   "metadata": {},
   "outputs": [],
   "source": [
    "# append() : it is used to add a single element or multiple elements to the list in the form of single element\n",
    "# extend() : it is used to add multiple elements to the list  in the form of an iterable"
   ]
  },
  {
   "cell_type": "code",
   "execution_count": 49,
   "id": "74ca9a15-61ee-4b26-a1de-18ba4f8b9235",
   "metadata": {},
   "outputs": [
    {
     "name": "stdout",
     "output_type": "stream",
     "text": [
      "[1, 2, 3, [4, 5]]\n"
     ]
    }
   ],
   "source": [
    "list1 = [1, 2, 3]\n",
    "list1.append([4, 5])  # Appending a list as a single element\n",
    "print(list1)"
   ]
  },
  {
   "cell_type": "code",
   "execution_count": 50,
   "id": "45c4bf1b-d0c8-4c24-bbae-cf8bd40e6b07",
   "metadata": {},
   "outputs": [
    {
     "name": "stdout",
     "output_type": "stream",
     "text": [
      "[1, 2, 3, 4, 5]\n"
     ]
    }
   ],
   "source": [
    "list2 = [1, 2, 3]\n",
    "list2.extend([4, 5])  # Extending with elements of another list\n",
    "print(list2)"
   ]
  },
  {
   "cell_type": "code",
   "execution_count": 51,
   "id": "fa593f56-da5f-497d-9c26-d076cfe18dd4",
   "metadata": {},
   "outputs": [
    {
     "name": "stdout",
     "output_type": "stream",
     "text": [
      "['A', 'B', 'C', 'D', 'E']\n"
     ]
    }
   ],
   "source": [
    "list3 = ['A','B']\n",
    "list3.append('C')       \n",
    "list3.extend(['D', 'E']) \n",
    "print(list3)"
   ]
  },
  {
   "cell_type": "code",
   "execution_count": 52,
   "id": "6dc6afc6-90f8-4a4a-a3e9-0c71ad7d3339",
   "metadata": {},
   "outputs": [
    {
     "name": "stdout",
     "output_type": "stream",
     "text": [
      "[10, 20, 30, 40, 50, 60, 70, 80, 90, 100]\n",
      "After using del nums[0] :  [20, 30, 40, 50, 60, 70, 80, 90, 100]\n",
      "After using del nums[1:3] :  [20, 50, 60, 70, 80, 90, 100]\n"
     ]
    }
   ],
   "source": [
    "# del keyword \n",
    "nums = [10,20,30,40,50,60,70,80,90,100]\n",
    "print(nums)\n",
    "del nums[0]\n",
    "print(\"After using del nums[0] : \",nums)\n",
    "del nums[1:3]\n",
    "print(\"After using del nums[1:3] : \",nums)"
   ]
  },
  {
   "cell_type": "code",
   "execution_count": 53,
   "id": "aa6210c2-4be4-4d34-886c-1d7dbbc7d3b1",
   "metadata": {},
   "outputs": [
    {
     "name": "stdout",
     "output_type": "stream",
     "text": [
      "Removed last fruit: pumpkin\n",
      "List after popping last element: ['apple', 'banana', 'cherry', 'dates']\n",
      "Removed fruit at index 1: banana\n",
      "List after popping element at index 1: ['apple', 'cherry', 'dates']\n"
     ]
    }
   ],
   "source": [
    "# pop keyword \n",
    "fruits = [\"apple\", \"banana\", \"cherry\", \"dates\", \"pumpkin\"]\n",
    "\n",
    "# Default Behaviour is : To Remove and return the last element \n",
    "last_fruit = fruits.pop()\n",
    "print(\"Removed last fruit:\", last_fruit)\n",
    "print(\"List after popping last element:\", fruits)\n",
    "\n",
    "# popping the element at index 1\n",
    "second_fruit = fruits.pop(1)\n",
    "print(\"Removed fruit at index 1:\", second_fruit)\n",
    "print(\"List after popping element at index 1:\", fruits)\n"
   ]
  },
  {
   "cell_type": "code",
   "execution_count": 54,
   "id": "92cc058e-c7ef-4dd1-83e1-9dc69dc1eb1d",
   "metadata": {},
   "outputs": [
    {
     "name": "stdout",
     "output_type": "stream",
     "text": [
      "[10, 30, 20, 40, 20]\n"
     ]
    }
   ],
   "source": [
    "# remove keyword\n",
    "# The remove method is used to remove the occurance of the first value in the list\n",
    "numbers = [10, 20, 30, 20, 40, 20]\n",
    "# Removes the first occurrence of 20\n",
    "numbers.remove(20)  \n",
    "print(numbers)"
   ]
  },
  {
   "cell_type": "code",
   "execution_count": 55,
   "id": "80014c07-41df-4c16-915e-8bf6608375bc",
   "metadata": {},
   "outputs": [],
   "source": [
    "# sort() and sorted()\n",
    "\n",
    "# .sort() : Sorts a list in-place (modifies the original list).\n",
    "# sorted(): Returns a new sorted list (original list remains unchanged)"
   ]
  },
  {
   "cell_type": "code",
   "execution_count": 56,
   "id": "ea61c1a5-38ce-4a74-a43f-e2f0c23797fd",
   "metadata": {},
   "outputs": [
    {
     "name": "stdout",
     "output_type": "stream",
     "text": [
      "After using the .sort() :  [1, 3, 8, 24, 32]\n"
     ]
    }
   ],
   "source": [
    "L = [32,24,1,3,8]\n",
    "L.sort()\n",
    "print('After using the .sort() : ',L)"
   ]
  },
  {
   "cell_type": "code",
   "execution_count": 57,
   "id": "5d1d1038-3a33-4957-a080-d1a4a6f7e9ee",
   "metadata": {},
   "outputs": [
    {
     "name": "stdout",
     "output_type": "stream",
     "text": [
      "Sorting using .sorted() :  [1, 3, 8, 24, 32]\n"
     ]
    }
   ],
   "source": [
    "L2 = [32,24,1,3,8]\n",
    "print(\"Sorting using .sorted() : \",sorted(L2))"
   ]
  },
  {
   "cell_type": "markdown",
   "id": "48f828eb-1fc1-404f-b63c-61b88be3174b",
   "metadata": {},
   "source": [
    "### Note: L.sort() does not return anything , hence first we sorted the values first and then printed the list"
   ]
  },
  {
   "cell_type": "code",
   "execution_count": 58,
   "id": "3cb508be-54ea-4ea9-8dcf-38bef3c96301",
   "metadata": {},
   "outputs": [
    {
     "name": "stdout",
     "output_type": "stream",
     "text": [
      "List A :  ['orange', 'strawberry', 'mango']\n",
      "List B :  ['orange', 'strawberry', 'mango']\n"
     ]
    }
   ],
   "source": [
    "# shadow copying\n",
    "A =['orange','strawberry','mango']\n",
    "B = A\n",
    "print(\"List A : \",A)\n",
    "print(\"List B : \",B)"
   ]
  },
  {
   "cell_type": "code",
   "execution_count": 59,
   "id": "08d65095-4ddc-4735-afdc-8f3aebcc7f66",
   "metadata": {},
   "outputs": [
    {
     "name": "stdout",
     "output_type": "stream",
     "text": [
      "List A :  ['Pineapple', 'strawberry', 'mango']\n",
      "List B :  ['Pineapple', 'strawberry', 'mango']\n"
     ]
    }
   ],
   "source": [
    "A[0] = 'Pineapple'\n",
    "print(\"List A : \",A)\n",
    "print(\"List B : \",B)"
   ]
  },
  {
   "cell_type": "code",
   "execution_count": 60,
   "id": "60eaceeb-e9d9-4a6e-a4bb-de25e3bbcb5c",
   "metadata": {},
   "outputs": [],
   "source": [
    "# value changed in one list got updated in both , here both the list are rerencing to the single location"
   ]
  },
  {
   "cell_type": "code",
   "execution_count": 61,
   "id": "0497a3d6-8b6f-4365-af05-aaaac6c3ff56",
   "metadata": {},
   "outputs": [
    {
     "name": "stdout",
     "output_type": "stream",
     "text": [
      "List C :  ['Maruti', 'Honda', 'Skoda']\n",
      "List D :  ['Maruti', 'Honda', 'Skoda']\n"
     ]
    }
   ],
   "source": [
    "# example for preventing the shadow copying\n",
    "C = ['Maruti','Honda','Skoda']\n",
    "D = C[:]\n",
    "print('List C : ',C)\n",
    "print('List D : ',D)"
   ]
  },
  {
   "cell_type": "code",
   "execution_count": 62,
   "id": "da611b3f-31f6-42af-953d-bbe073f43329",
   "metadata": {},
   "outputs": [
    {
     "name": "stdout",
     "output_type": "stream",
     "text": [
      "List C :  ['Mahindra', 'Honda', 'Skoda']\n",
      "List D :  ['Maruti', 'Honda', 'Skoda']\n"
     ]
    }
   ],
   "source": [
    "C[0] = 'Mahindra'\n",
    "print('List C : ',C)\n",
    "print('List D : ',D)"
   ]
  },
  {
   "cell_type": "markdown",
   "id": "e9f5ddb9-24f5-4ef1-8b3e-df3a812480e4",
   "metadata": {},
   "source": [
    "## Tuples "
   ]
  },
  {
   "cell_type": "markdown",
   "id": "5c7b3973-81a0-47c2-beae-a4f903d9778a",
   "metadata": {},
   "source": [
    "### Tuples are similar to the lists in almost of their functionalities but there is one significant difference between both the data structures i.e. the lists are mutable whereas the tuples are immutable in nature"
   ]
  },
  {
   "cell_type": "code",
   "execution_count": 63,
   "id": "32be355f-b80a-441f-84f6-d23ac464886d",
   "metadata": {},
   "outputs": [],
   "source": [
    "# Tuples are the ordered sequence of mixed elements or we can say datatypes ie the order in which the elements are inserted remains same\n",
    "# tuples are written as comma separated elements which are enclosed within the circular brackets."
   ]
  },
  {
   "cell_type": "code",
   "execution_count": 64,
   "id": "da2feef9-1c11-4532-972e-b30b0e92d917",
   "metadata": {},
   "outputs": [
    {
     "name": "stdout",
     "output_type": "stream",
     "text": [
      "(1, 2, 3, 4, 5)\n",
      "<class 'tuple'>\n"
     ]
    }
   ],
   "source": [
    "#  A tuple can be defined without parenthesis\n",
    "tup1 = 1,2,3,4,5\n",
    "print(tup1)\n",
    "print(type(tup1))"
   ]
  },
  {
   "cell_type": "code",
   "execution_count": 65,
   "id": "cde56cdb-5c72-44a6-90bd-0c07d0e6caba",
   "metadata": {},
   "outputs": [
    {
     "name": "stdout",
     "output_type": "stream",
     "text": [
      "<class 'tuple'>\n"
     ]
    }
   ],
   "source": [
    "# single value tuple\n",
    "single_val_tup = 1, # Note : for defining the single value tuple we need to give , at the end\n",
    "print(type(single_val_tup))"
   ]
  },
  {
   "cell_type": "code",
   "execution_count": 66,
   "id": "229e1ec0-53f5-4747-88c3-03813b909aa0",
   "metadata": {},
   "outputs": [
    {
     "name": "stdout",
     "output_type": "stream",
     "text": [
      "<class 'int'>\n"
     ]
    }
   ],
   "source": [
    "# Note :While defining the single Value Tuple If , is not included at the end then it will be the integer\n",
    "eg = (1)\n",
    "print(type(eg))"
   ]
  },
  {
   "cell_type": "code",
   "execution_count": 67,
   "id": "a434e1d4-c43b-4d78-a707-d2780cbc5597",
   "metadata": {},
   "outputs": [
    {
     "name": "stdout",
     "output_type": "stream",
     "text": [
      "(1, 2, 3, 4)\n"
     ]
    }
   ],
   "source": [
    "# concatination of tuples\n",
    "tup1 = (1,2)\n",
    "tup2 = (3,4)\n",
    "print(tup1+tup2)"
   ]
  },
  {
   "cell_type": "code",
   "execution_count": 68,
   "id": "12afec70-1c16-413f-864b-fb42ee69b6fe",
   "metadata": {},
   "outputs": [],
   "source": [
    "# immortability of the tuples\n",
    "t = ('USA',4,3,'DISCO',7.5)\n",
    "#t[0] = 'Russia' # 'tuple' object does not support item assignment"
   ]
  },
  {
   "cell_type": "code",
   "execution_count": 69,
   "id": "1b0883c8-4caf-4cc5-b570-232a485073cc",
   "metadata": {},
   "outputs": [
    {
     "name": "stdout",
     "output_type": "stream",
     "text": [
      "('Russia', 4, 3, 'DISCO', 7.5)\n"
     ]
    }
   ],
   "source": [
    "# one way to make changes in the tuple is to first convert it into list make the changes and then again convert it back to tuple\n",
    "ls = list(t)\n",
    "ls[0] = 'Russia'\n",
    "t = tuple(ls)\n",
    "print(t)"
   ]
  },
  {
   "cell_type": "code",
   "execution_count": 70,
   "id": "d3a15d14-d793-4a47-b9d9-72472494bef6",
   "metadata": {},
   "outputs": [],
   "source": [
    "# Nested Tuple : tuple within a tuple\n",
    "t = (1,2,1.2,'party',(12,13,14))"
   ]
  },
  {
   "cell_type": "code",
   "execution_count": 71,
   "id": "55d2e20c-e308-435e-8419-20b5e7edaf82",
   "metadata": {},
   "outputs": [
    {
     "name": "stdout",
     "output_type": "stream",
     "text": [
      "14\n"
     ]
    }
   ],
   "source": [
    "# to access 14\n",
    "print(t[4][-1])"
   ]
  },
  {
   "cell_type": "markdown",
   "id": "c310a51c-0f69-4bb9-bf69-a83c435b2db6",
   "metadata": {},
   "source": [
    "### similarly we can do all the operations here as we do in the list only catch is the operation should make any changes in the existing tuple"
   ]
  },
  {
   "cell_type": "markdown",
   "id": "f54e0911-33b3-46f2-a6bf-c44fc4ebc979",
   "metadata": {},
   "source": [
    "## Sets"
   ]
  },
  {
   "cell_type": "markdown",
   "id": "e8396ce4-c5d6-41f0-8b11-568673a6723a",
   "metadata": {},
   "source": [
    "### Sets are the unordered collection i.e. it doesn't maintain the order in which the elements are inserted\n",
    "### Sets are enclosed withing the curly braces {} and are written as comma separated .\n",
    "### Sets doesn't allow duplicates"
   ]
  },
  {
   "cell_type": "code",
   "execution_count": 72,
   "id": "2bbec80a-0dc4-4f9a-9e3b-0c5f70210a9e",
   "metadata": {},
   "outputs": [
    {
     "name": "stdout",
     "output_type": "stream",
     "text": [
      "['A', 'B', 'C', 'C', 'D', 'D', 'A']\n"
     ]
    }
   ],
   "source": [
    "# example \n",
    "grades = ['A','B','C','C','D','D','A']\n",
    "print(grades)"
   ]
  },
  {
   "cell_type": "code",
   "execution_count": 73,
   "id": "49448945-2ab7-44ae-b453-5c91ab50544b",
   "metadata": {},
   "outputs": [
    {
     "name": "stdout",
     "output_type": "stream",
     "text": [
      "{'A', 'B', 'D', 'C'}\n"
     ]
    }
   ],
   "source": [
    "# creating set\n",
    "set_of_grades = set(grades)\n",
    "print(set_of_grades)"
   ]
  },
  {
   "cell_type": "code",
   "execution_count": 74,
   "id": "f0e1d41a-eb26-4d0c-810d-10587f8a60a0",
   "metadata": {},
   "outputs": [],
   "source": [
    "# set does not support indexing\n",
    "#set_of_grades[0] # 'set' object is not subscriptable"
   ]
  },
  {
   "cell_type": "code",
   "execution_count": 75,
   "id": "bbbbdc63-bcff-46c1-ac00-70eef29fa5e0",
   "metadata": {},
   "outputs": [
    {
     "name": "stdout",
     "output_type": "stream",
     "text": [
      "{1, 2, 3, 4, 5}\n",
      "{1, 2, 3, 4}\n"
     ]
    }
   ],
   "source": [
    "# one way to define set \n",
    "set1 = {1,2,3,4,5}\n",
    "# other way to define set\n",
    "set2 = set([1,2,3,4])\n",
    "print(set1)\n",
    "print(set2)"
   ]
  },
  {
   "cell_type": "markdown",
   "id": "60038097-c9a6-42e8-9002-45ecf5771d09",
   "metadata": {},
   "source": [
    "### Set Operations"
   ]
  },
  {
   "cell_type": "code",
   "execution_count": 76,
   "id": "c0043184-f449-44ca-9784-07619e1a9194",
   "metadata": {},
   "outputs": [
    {
     "name": "stdout",
     "output_type": "stream",
     "text": [
      "Union of A , B : {0, 1, 2, 3, 4, 5, 6, 7, 8}\n",
      "Union of A , B : {0, 1, 2, 3, 4, 5, 6, 7, 8}\n"
     ]
    }
   ],
   "source": [
    "A = {0,2,4,6,8}\n",
    "B = {1,2,3,4,5,6,7}\n",
    "print(\"Union of A , B :\",A|B)\n",
    "print(\"Union of A , B :\",A.union(B))"
   ]
  },
  {
   "cell_type": "code",
   "execution_count": 77,
   "id": "c1139f74-6593-4e0a-9abf-b4d22c55a18d",
   "metadata": {},
   "outputs": [
    {
     "name": "stdout",
     "output_type": "stream",
     "text": [
      "Intersection of A , B : {2, 4, 6}\n",
      "Intersection of A , B : {2, 4, 6}\n"
     ]
    }
   ],
   "source": [
    "print(\"Intersection of A , B :\",A&B)\n",
    "print(\"Intersection of A , B :\",A.intersection(B))"
   ]
  },
  {
   "cell_type": "code",
   "execution_count": 78,
   "id": "77b3cc70-3a20-4126-9509-bfeb2d70e00e",
   "metadata": {},
   "outputs": [
    {
     "name": "stdout",
     "output_type": "stream",
     "text": [
      "A - B :  {0, 8}\n",
      "A - B :  {0, 8}\n"
     ]
    }
   ],
   "source": [
    "print(\"A - B : \",A-B)\n",
    "print(\"A - B : \",A.difference(B)) # elements occuring in A but not in B"
   ]
  },
  {
   "cell_type": "code",
   "execution_count": 79,
   "id": "0cad07fd-397a-466d-b6b3-b311ffd34401",
   "metadata": {},
   "outputs": [
    {
     "name": "stdout",
     "output_type": "stream",
     "text": [
      "{0, 1, 3, 5, 7, 8}\n",
      "{0, 1, 3, 5, 7, 8}\n"
     ]
    }
   ],
   "source": [
    "# Symmetric Difference : Items either in A or B but not in the intersection i.e. Union - intersection\n",
    "print(A^B)\n",
    "print(A.symmetric_difference(B))"
   ]
  },
  {
   "cell_type": "markdown",
   "id": "34c3804b-3dbb-4d21-a1fe-c8cb278a6ec3",
   "metadata": {},
   "source": [
    "## Dictionaries"
   ]
  },
  {
   "cell_type": "markdown",
   "id": "a11bbf25-2bae-4e82-b315-d76395b478da",
   "metadata": {},
   "source": [
    "### Dictionary store elements as the key value pairs.\n",
    "### The key is like an index it is always unique and immutable\n",
    "### The Values are the objects which can be assesed using the keys\n",
    "### The Values are mutable i.e. can be changed and also can be duplicates "
   ]
  },
  {
   "cell_type": "code",
   "execution_count": 80,
   "id": "483c7820-288f-441d-97fd-22d6a96e5b53",
   "metadata": {},
   "outputs": [],
   "source": [
    "# syntax : {key1 : value1,key2 : value2......}"
   ]
  },
  {
   "cell_type": "code",
   "execution_count": 81,
   "id": "a8a4d4bb-c50e-46ff-871c-d83528e972fc",
   "metadata": {},
   "outputs": [
    {
     "name": "stdout",
     "output_type": "stream",
     "text": [
      "Rupee\n"
     ]
    }
   ],
   "source": [
    "# example\n",
    "currency = {'India':'Rupee','USA':'Dollar','France':'Euro'}\n",
    "#Accessing the values\n",
    "print(currency['India'])"
   ]
  },
  {
   "cell_type": "code",
   "execution_count": 82,
   "id": "41d44b83-dbcb-41d6-9486-c1f14bf4c363",
   "metadata": {},
   "outputs": [],
   "source": [
    "# inserting a new key value pair\n",
    "currency['Japan'] = 'yen'"
   ]
  },
  {
   "cell_type": "code",
   "execution_count": 83,
   "id": "a8064448-ab8e-44db-bcad-1e3e9f55ea0c",
   "metadata": {},
   "outputs": [
    {
     "data": {
      "text/plain": [
       "{'India': 'Rupee', 'USA': 'Dollar', 'France': 'Euro', 'Japan': 'yen'}"
      ]
     },
     "execution_count": 83,
     "metadata": {},
     "output_type": "execute_result"
    }
   ],
   "source": [
    "currency"
   ]
  },
  {
   "cell_type": "code",
   "execution_count": 84,
   "id": "b01f76f3-096d-455e-98ef-a3d8efb95fa4",
   "metadata": {},
   "outputs": [
    {
     "name": "stdout",
     "output_type": "stream",
     "text": [
      "{'India': 'Rupee', 'USA': 'Dollar', 'Japan': 'yen'}\n"
     ]
    }
   ],
   "source": [
    "#example of deleting\n",
    "del currency['France']\n",
    "print(currency)"
   ]
  },
  {
   "cell_type": "code",
   "execution_count": 85,
   "id": "62fc41c5-a0db-420e-a2a0-23ab57ac1098",
   "metadata": {},
   "outputs": [
    {
     "name": "stdout",
     "output_type": "stream",
     "text": [
      "Removed currency: Dollar\n",
      "{'India': 'Rupee', 'Japan': 'yen'}\n"
     ]
    }
   ],
   "source": [
    "removed_value = currency.pop('USA')\n",
    "print(\"Removed currency:\", removed_value)\n",
    "print(currency)"
   ]
  },
  {
   "cell_type": "code",
   "execution_count": 86,
   "id": "f283717f-9926-47a8-921e-389d4a343d58",
   "metadata": {},
   "outputs": [],
   "source": [
    "currency = {'India': 'Rupee', 'USA': 'Dollar', 'France': 'Euro'}"
   ]
  },
  {
   "cell_type": "code",
   "execution_count": 87,
   "id": "a6416f5b-def9-451e-8bf7-00839ad927f8",
   "metadata": {},
   "outputs": [
    {
     "name": "stdout",
     "output_type": "stream",
     "text": [
      "Currency Values: dict_values(['Rupee', 'Dollar', 'Euro'])\n"
     ]
    }
   ],
   "source": [
    "# extracting all values using .values()\n",
    "values = currency.values()\n",
    "print(\"Currency Values:\", values)"
   ]
  },
  {
   "cell_type": "code",
   "execution_count": 88,
   "id": "edcd8664-2ff0-4a2c-bf0c-a8069c09be75",
   "metadata": {},
   "outputs": [
    {
     "name": "stdout",
     "output_type": "stream",
     "text": [
      "Keys: dict_keys(['India', 'USA', 'France'])\n"
     ]
    }
   ],
   "source": [
    "# extracting all the keys\n",
    "keys = currency.keys()\n",
    "print(\"Keys:\", keys)"
   ]
  },
  {
   "cell_type": "code",
   "execution_count": 89,
   "id": "3249f07e-f5f8-4706-bda3-a61cea572e69",
   "metadata": {},
   "outputs": [
    {
     "name": "stdout",
     "output_type": "stream",
     "text": [
      "Updated Dictionary after using update function : {'India': 'Rupee', 'USA': 'Dollar', 'France': 'Euro', 'Japan': 'Yen', 'Germany': 'Euro'}\n"
     ]
    }
   ],
   "source": [
    "# Updating dictionary using a new dictionary \n",
    "# D1.update(D2) is the syntax\n",
    "new_currency = {'Japan': 'Yen', 'Germany': 'Euro'}\n",
    "currency.update(new_currency)\n",
    "print(\"Updated Dictionary after using update function :\", currency)"
   ]
  },
  {
   "cell_type": "code",
   "execution_count": 90,
   "id": "62aed72d-d147-44f0-8ee0-ba32b32e86f3",
   "metadata": {},
   "outputs": [
    {
     "name": "stdout",
     "output_type": "stream",
     "text": [
      "Value for USA: Dollar\n",
      "Value for Italy: Not Found\n"
     ]
    }
   ],
   "source": [
    "# Accessing values using get function : get(key,\"Not Found Message\")\n",
    "value = currency.get('USA', 'Not Found')\n",
    "print(\"Value for USA:\", value)\n",
    "\n",
    "value = currency.get('Italy', 'Not Found')\n",
    "print(\"Value for Italy:\", value)"
   ]
  },
  {
   "cell_type": "markdown",
   "id": "0b5bd346-8656-48cb-856e-05ec70766ba5",
   "metadata": {},
   "source": [
    "### Sorted() Function"
   ]
  },
  {
   "cell_type": "markdown",
   "id": "7ec55b53-632e-4063-b63b-286db0016cf7",
   "metadata": {},
   "source": [
    "### sorted() function parametes explanation\n",
    "### parameters are : iterable , key - (based on what needs to be sorted or a func to execute to decide the order, default is None) , reverse : if true then descending else ascending"
   ]
  },
  {
   "cell_type": "code",
   "execution_count": 91,
   "id": "70358123-14c3-4da8-a730-ee4e4b9b0327",
   "metadata": {},
   "outputs": [
    {
     "name": "stdout",
     "output_type": "stream",
     "text": [
      "[1, 3, 7, 9, 10]\n"
     ]
    }
   ],
   "source": [
    "# Sorting a list of numbers\n",
    "numbers = [10, 3, 7, 1, 9]\n",
    "sorted_numbers = sorted(numbers)\n",
    "print(sorted_numbers)"
   ]
  },
  {
   "cell_type": "code",
   "execution_count": 92,
   "id": "436683b0-d7c8-4605-a5e6-f11c14ff8d88",
   "metadata": {},
   "outputs": [
    {
     "name": "stdout",
     "output_type": "stream",
     "text": [
      "['fig', 'apple', 'banana', 'cherry']\n"
     ]
    }
   ],
   "source": [
    "# sorting based on the length of the word\n",
    "words = [\"apple\", \"banana\", \"cherry\", \"fig\"]\n",
    "sorted_words = sorted(words, key=len)\n",
    "print(sorted_words)"
   ]
  },
  {
   "cell_type": "code",
   "execution_count": 93,
   "id": "2604cde6-8aaa-4f93-8cf5-a9c1f90b9182",
   "metadata": {},
   "outputs": [
    {
     "name": "stdout",
     "output_type": "stream",
     "text": [
      "[(4, 1), (3, 2), (1, 3), (2, 5)]\n"
     ]
    }
   ],
   "source": [
    "# sorting based on the second element of tuples\n",
    "tuples = [(1, 3), (4, 1), (2, 5), (3, 2)]\n",
    "sorted_tuples = sorted(tuples, key=lambda x: x[1]) #x[1] because in the lambda function a single tuple is getting passed\n",
    "print(sorted_tuples)"
   ]
  },
  {
   "cell_type": "code",
   "execution_count": 94,
   "id": "754d82c8-4e6f-46d9-9d66-81e7ffb91e65",
   "metadata": {},
   "outputs": [
    {
     "name": "stdout",
     "output_type": "stream",
     "text": [
      "[(2, 5, 3), (4, 1, 4), (1, 3, 5), (3, 2, 9)]\n"
     ]
    }
   ],
   "source": [
    "# sorting based on the last element of tuples\n",
    "tuples2 = [(1, 3, 5), (4, 1, 4), (2, 5, 3), (3, 2, 9)]\n",
    "sorted_tuples2 = sorted(tuples2, key=lambda x: x[-1])\n",
    "print(sorted_tuples2)"
   ]
  },
  {
   "cell_type": "code",
   "execution_count": 95,
   "id": "639d5fed-58d6-4dea-bede-567945b8bbce",
   "metadata": {},
   "outputs": [
    {
     "data": {
      "text/plain": [
       "dict_items([('Alice', 95), ('Bob', 85), ('Charlie', 90)])"
      ]
     },
     "execution_count": 95,
     "metadata": {},
     "output_type": "execute_result"
    }
   ],
   "source": [
    "scores = {'Alice': 95, 'Bob': 85, 'Charlie': 90}\n",
    "scores.items()"
   ]
  },
  {
   "cell_type": "code",
   "execution_count": 96,
   "id": "b1e78533-93de-4002-bc7a-7d6650dce91b",
   "metadata": {},
   "outputs": [
    {
     "name": "stdout",
     "output_type": "stream",
     "text": [
      "[('Alice', 95), ('Charlie', 90), ('Bob', 85)]\n"
     ]
    }
   ],
   "source": [
    "# lets sort using the values of the dictionary in reverse order\n",
    "sorted_list = sorted(scores.items() , key=lambda x:x[1] , reverse=True)\n",
    "print(sorted_list)"
   ]
  },
  {
   "cell_type": "code",
   "execution_count": 97,
   "id": "5e06814e-c02d-48ab-814a-d4d819b2db78",
   "metadata": {},
   "outputs": [
    {
     "name": "stdout",
     "output_type": "stream",
     "text": [
      "[1, 2, -3, -4, 5]\n"
     ]
    }
   ],
   "source": [
    "# sorting the list based on the squares of each element\n",
    "numbers = [1, -3, 2, -4, 5]\n",
    "sorted_numbers = sorted(numbers, key=lambda x: x**2)\n",
    "print(sorted_numbers)"
   ]
  },
  {
   "cell_type": "markdown",
   "id": "849fe012-3d63-4267-9aa6-aedd3d1555b5",
   "metadata": {},
   "source": [
    "## Control Structures and Functions"
   ]
  },
  {
   "cell_type": "markdown",
   "id": "5d99dd88-99bc-4890-b6d5-f51f075ed5eb",
   "metadata": {},
   "source": [
    "### The most common control structures are if else , for and while loops , list and dictionary comprehensions"
   ]
  },
  {
   "cell_type": "markdown",
   "id": "ebea418c-cff3-4beb-a9a2-11c3739c917f",
   "metadata": {},
   "source": [
    "### Note : '=' is an assignment operator usefull for assigning the values to the variables\n",
    "### '==' is the relational operator usefull for comparison checks"
   ]
  },
  {
   "cell_type": "code",
   "execution_count": 98,
   "id": "93b56214-98ab-4eda-922d-f214ad28813b",
   "metadata": {},
   "outputs": [
    {
     "name": "stdout",
     "output_type": "stream",
     "text": [
      "The number is negative.\n"
     ]
    }
   ],
   "source": [
    "num = -5\n",
    "\n",
    "if num >= 0:\n",
    "    print(\"The number is positive.\")\n",
    "else:\n",
    "    print(\"The number is negative.\")"
   ]
  },
  {
   "cell_type": "code",
   "execution_count": 99,
   "id": "f217c15c-e4ee-4f75-8d44-7c7e41cb5b2b",
   "metadata": {},
   "outputs": [
    {
     "name": "stdout",
     "output_type": "stream",
     "text": [
      "The number is positive.\n"
     ]
    }
   ],
   "source": [
    "# nested if else example\n",
    "num = 10\n",
    "\n",
    "if num > 0:\n",
    "    print(\"The number is positive.\")\n",
    "elif num < 0:\n",
    "    print(\"The number is negative.\")\n",
    "else:\n",
    "    print(\"The number is zero.\")"
   ]
  },
  {
   "cell_type": "code",
   "execution_count": 100,
   "id": "1ad8c607-5796-4a87-a160-08e8dddf7977",
   "metadata": {},
   "outputs": [
    {
     "name": "stdout",
     "output_type": "stream",
     "text": [
      "The number is negative.\n"
     ]
    }
   ],
   "source": [
    "#Using or in If-else Statements\n",
    "# in case of or if any one of the condition is true it results in true\n",
    "num = -3\n",
    "\n",
    "if num >= 0 or num == 0:\n",
    "    print(\"The number is positive or zero.\")\n",
    "else:\n",
    "    print(\"The number is negative.\")"
   ]
  },
  {
   "cell_type": "code",
   "execution_count": 101,
   "id": "99a9eda1-89f7-4ce8-8a2f-63a24fc30d26",
   "metadata": {},
   "outputs": [
    {
     "name": "stdout",
     "output_type": "stream",
     "text": [
      "The number is between 10 and 20.\n"
     ]
    }
   ],
   "source": [
    "#Using and in If-Else:\n",
    "# in case of and both the conditions on the left , right side must be true for evaluating to true\n",
    "num = 15\n",
    "\n",
    "if num >= 10 and num <= 20:\n",
    "    print(\"The number is between 10 and 20.\")\n",
    "else:\n",
    "    print(\"The number is not between 10 and 20.\")"
   ]
  },
  {
   "cell_type": "code",
   "execution_count": 102,
   "id": "ffdc06ec-2e95-43eb-8cd7-373b6787c2dd",
   "metadata": {},
   "outputs": [
    {
     "name": "stdout",
     "output_type": "stream",
     "text": [
      "B\n"
     ]
    }
   ],
   "source": [
    "# alsways evaluated from the left side \n",
    "if True or True:\n",
    "    if False and True or False:\n",
    "        print('A')\n",
    "    elif False and False or True and True:\n",
    "        print('B')\n",
    "    else:\n",
    "        print('C')"
   ]
  },
  {
   "cell_type": "markdown",
   "id": "681ba098-2492-439e-819c-23ce3688dd08",
   "metadata": {},
   "source": [
    "### Loops and iterations"
   ]
  },
  {
   "cell_type": "markdown",
   "id": "0efc9d14-9bae-498d-a9ee-279f5bc2bab1",
   "metadata": {},
   "source": [
    "### A for Loop is used when we know in advance how many times we want to iterate."
   ]
  },
  {
   "cell_type": "code",
   "execution_count": 103,
   "id": "8194acee-0f04-4f6e-8f0d-dd16f5116185",
   "metadata": {},
   "outputs": [
    {
     "name": "stdout",
     "output_type": "stream",
     "text": [
      "apple\n",
      "banana\n",
      "cherry\n"
     ]
    }
   ],
   "source": [
    "fruits = ['apple', 'banana', 'cherry']\n",
    "for fruit in fruits:\n",
    "    print(fruit)"
   ]
  },
  {
   "cell_type": "code",
   "execution_count": 104,
   "id": "011e1a7b-f92d-422b-98a5-d15934234a0a",
   "metadata": {},
   "outputs": [
    {
     "name": "stdout",
     "output_type": "stream",
     "text": [
      "0 1 2 3 4 "
     ]
    }
   ],
   "source": [
    "for i in range(5):\n",
    "    print(i , end=' ')"
   ]
  },
  {
   "cell_type": "markdown",
   "id": "4885230e-5193-4767-ad6b-e2227a0cb681",
   "metadata": {},
   "source": [
    "### A while loop keeps repeating a task as long as a certain condition is true. It's useful when you don't know how many times the task will need to be done, and it depends on a condition that can change while the loop is running."
   ]
  },
  {
   "cell_type": "code",
   "execution_count": 105,
   "id": "9fa05fbb-103b-485b-8d3f-51771fcac141",
   "metadata": {},
   "outputs": [
    {
     "name": "stdout",
     "output_type": "stream",
     "text": [
      "0\n",
      "1\n",
      "2\n",
      "3\n",
      "4\n"
     ]
    }
   ],
   "source": [
    "num = 0\n",
    "while num < 5:\n",
    "    print(num)\n",
    "    num += 1"
   ]
  },
  {
   "cell_type": "code",
   "execution_count": 106,
   "id": "27d8cb0a-207a-4da4-8536-8fdbf48bc5af",
   "metadata": {},
   "outputs": [],
   "source": [
    "# iteraing over dictionary\n",
    "students_data = {\n",
    "    1:['Ram',24],\n",
    "    2:['Shyam',24],\n",
    "    3:['Ghanshyam',25]\n",
    "}"
   ]
  },
  {
   "cell_type": "code",
   "execution_count": 107,
   "id": "5fd22c56-644c-4caf-9d1a-d89b92c227bf",
   "metadata": {},
   "outputs": [
    {
     "data": {
      "text/plain": [
       "{1: ['Ram', 24], 2: ['Shyam', 24], 3: ['Ghanshyam', 25]}"
      ]
     },
     "execution_count": 107,
     "metadata": {},
     "output_type": "execute_result"
    }
   ],
   "source": [
    "students_data"
   ]
  },
  {
   "cell_type": "code",
   "execution_count": 108,
   "id": "53697834-9430-4ee9-acd6-3b16ed13e610",
   "metadata": {},
   "outputs": [
    {
     "data": {
      "text/plain": [
       "dict_items([(1, ['Ram', 24]), (2, ['Shyam', 24]), (3, ['Ghanshyam', 25])])"
      ]
     },
     "execution_count": 108,
     "metadata": {},
     "output_type": "execute_result"
    }
   ],
   "source": [
    "students_data.items()"
   ]
  },
  {
   "cell_type": "code",
   "execution_count": 109,
   "id": "215d51ee-136d-401c-b7ff-b3be4c6eb9b6",
   "metadata": {},
   "outputs": [
    {
     "name": "stdout",
     "output_type": "stream",
     "text": [
      "Key is : 1  Value is :  ['Ram', 24]\n",
      "-----\n",
      "Key is : 2  Value is :  ['Shyam', 24]\n",
      "-----\n",
      "Key is : 3  Value is :  ['Ghanshyam', 25]\n",
      "-----\n"
     ]
    }
   ],
   "source": [
    "# .items() func returned us the list of tuples having key and values\n",
    "for key,value in students_data.items():\n",
    "    print(\"Key is :\",key,\" Value is : \",value)\n",
    "    print(\"-----\")"
   ]
  },
  {
   "cell_type": "markdown",
   "id": "785128e2-f085-4704-960a-d7146e789bb1",
   "metadata": {},
   "source": [
    "## Understanding range() function with variations"
   ]
  },
  {
   "cell_type": "code",
   "execution_count": 110,
   "id": "340e457a-5940-4292-b86a-33409400182d",
   "metadata": {},
   "outputs": [
    {
     "name": "stdout",
     "output_type": "stream",
     "text": [
      "0--1--2--3--4--5--6--7--8--9--"
     ]
    }
   ],
   "source": [
    "# range(stop) generating range from 0 to stop -1\n",
    "for i in range(10):\n",
    "    print(i,end='--')"
   ]
  },
  {
   "cell_type": "code",
   "execution_count": 111,
   "id": "76895980-9ad1-4856-96ad-3e907664b2b0",
   "metadata": {},
   "outputs": [
    {
     "name": "stdout",
     "output_type": "stream",
     "text": [
      "5--6--7--8--9--"
     ]
    }
   ],
   "source": [
    "#range(start, stop) generating range from start to stop -1\n",
    "for i in range(5,10):\n",
    "    print(i,end='--')"
   ]
  },
  {
   "cell_type": "code",
   "execution_count": 112,
   "id": "d153f7ba-b718-4b84-a830-c9a5edc2b0c1",
   "metadata": {},
   "outputs": [
    {
     "name": "stdout",
     "output_type": "stream",
     "text": [
      "0--2--4--6--8--"
     ]
    }
   ],
   "source": [
    "#range(start, stop, step) generating range from start to stop -1 with a step size\n",
    "for i in range(0,10,2):\n",
    "    print(i,end='--')"
   ]
  },
  {
   "cell_type": "code",
   "execution_count": 113,
   "id": "d7d6444d-f8d2-48a5-9bbb-3f9078143843",
   "metadata": {},
   "outputs": [
    {
     "name": "stdout",
     "output_type": "stream",
     "text": [
      "10--9--8--7--6--"
     ]
    }
   ],
   "source": [
    "# traversing in reverse order of range\n",
    "for i in range(10,5,-1):\n",
    "    print(i,end='--')"
   ]
  },
  {
   "cell_type": "markdown",
   "id": "8862defd-e33d-4ff4-b55d-a11a285406d1",
   "metadata": {},
   "source": [
    "## Comprehensions"
   ]
  },
  {
   "cell_type": "markdown",
   "id": "80135d1f-b782-4ffa-be11-9fdc6c4c15aa",
   "metadata": {},
   "source": [
    "### Comprehensions are syntactic constructs that enable sequences to be built from another sequences"
   ]
  },
  {
   "cell_type": "code",
   "execution_count": 114,
   "id": "d86e5211-c256-4cea-8504-0bfe46533e7e",
   "metadata": {},
   "outputs": [
    {
     "name": "stdout",
     "output_type": "stream",
     "text": [
      "[11, 5, 4, 6, 3]\n"
     ]
    }
   ],
   "source": [
    "#example\n",
    "L1 = ['automobiles','Honda','Benz','Suzuki','BMW']\n",
    "# goal is to create a list that contains the list of each word\n",
    "# approach one\n",
    "result = []\n",
    "for word in L1:\n",
    "    result.append(len(word))\n",
    "print(result)    "
   ]
  },
  {
   "cell_type": "code",
   "execution_count": 115,
   "id": "feae2199-d89d-4d2f-bbd4-5a25dec5ae80",
   "metadata": {},
   "outputs": [
    {
     "name": "stdout",
     "output_type": "stream",
     "text": [
      "[11, 5, 4, 6, 3]\n"
     ]
    }
   ],
   "source": [
    "res = [len(x) for x in L1]\n",
    "print(res)"
   ]
  },
  {
   "cell_type": "code",
   "execution_count": 116,
   "id": "d341e9fb-e4be-4d85-baa1-3bdb8b088717",
   "metadata": {},
   "outputs": [
    {
     "name": "stdout",
     "output_type": "stream",
     "text": [
      "[-4, -2, 0, 2, 4]\n"
     ]
    }
   ],
   "source": [
    "# given two list create a list by subtracting each element\n",
    "L1 = [1,2,3,4,5]\n",
    "L2 = [5,4,3,2,1]\n",
    "l3 = [L1[i] - L2[i] for i in range(len(L1))]\n",
    "print(l3)"
   ]
  },
  {
   "cell_type": "code",
   "execution_count": 117,
   "id": "edede6aa-5cd7-4d7e-9d69-44a59c5a710d",
   "metadata": {},
   "outputs": [
    {
     "name": "stdout",
     "output_type": "stream",
     "text": [
      "{'automobiles': 11, 'Honda': 5, 'Benz': 4, 'Suzuki': 6, 'BMW': 3}\n"
     ]
    }
   ],
   "source": [
    "# Given List create a dictionary having key as word and value as length\n",
    "L1 = ['automobiles','Honda','Benz','Suzuki','BMW']\n",
    "dict1 = {x:len(x) for x in L1}\n",
    "print(dict1)"
   ]
  },
  {
   "cell_type": "code",
   "execution_count": 118,
   "id": "46c67fc0-2b24-494a-b73f-9cb5d6d684b1",
   "metadata": {},
   "outputs": [
    {
     "name": "stdout",
     "output_type": "stream",
     "text": [
      "{2: 4, 4: 16, 6: 36, 8: 64, 10: 100, 12: 144, 14: 196, 16: 256, 18: 324, 20: 400}\n"
     ]
    }
   ],
   "source": [
    "# create a dictionary that has first 10 even Natural nos as the key and their squares as the values\n",
    "L2 = {i:i**2 for i in range(2,21) if i%2 == 0}\n",
    "print(L2)"
   ]
  },
  {
   "cell_type": "markdown",
   "id": "f7e5e13d-9ce2-44a1-b917-c7fb05b3d4aa",
   "metadata": {},
   "source": [
    "### general syntax : [(the expression) for (the element) in (the iterable)]\n",
    "### general syntax : [(the expression) for (the element) in (the iterable) if (condition)]"
   ]
  },
  {
   "cell_type": "markdown",
   "id": "829e1f2b-9ff7-4046-8496-f6c78ef931b5",
   "metadata": {},
   "source": [
    "### List Comprehension with If Else"
   ]
  },
  {
   "cell_type": "markdown",
   "id": "1b3913db-e02e-40d4-a941-ef010647af27",
   "metadata": {},
   "source": [
    "### general syntax : [(the expression) if condition else (the expression) for (the element) in (the iterable)]"
   ]
  },
  {
   "cell_type": "code",
   "execution_count": 119,
   "id": "ca62d2d0-c5bb-4dd4-953c-95dc9abe9d3a",
   "metadata": {},
   "outputs": [
    {
     "name": "stdout",
     "output_type": "stream",
     "text": [
      "[0, 6, 12, 18, 24, 30, 36, 42, 48, 54, 60, 55, 60, 65, 70, 75, 80, 85, 90, 95]\n"
     ]
    }
   ],
   "source": [
    "# create a list of multiple of 6 for even nos btw 1 to 10 and multiple of 5 post that\n",
    "l1 = [x*6 if (x>0 and x<=10) else x*5 for x in range(20)]\n",
    "print(l1)"
   ]
  },
  {
   "cell_type": "code",
   "execution_count": 120,
   "id": "98c8b176-7df4-4d7e-9a74-872f29034822",
   "metadata": {},
   "outputs": [
    {
     "name": "stdout",
     "output_type": "stream",
     "text": [
      "[(1, 'A'), (1, 'B'), (1, 'C'), (2, 'A'), (2, 'B'), (2, 'C'), (3, 'A'), (3, 'B'), (3, 'C')]\n"
     ]
    }
   ],
   "source": [
    "## list comprehension with nested loops\n",
    "list1 = [1, 2, 3]\n",
    "list2 = ['A', 'B', 'C']\n",
    "list_product = [(x, y) for x in list1 for y in list2]\n",
    "print(list_product)"
   ]
  },
  {
   "cell_type": "markdown",
   "id": "f832ffda-3abf-4b0a-8c8a-b40bb24f8c86",
   "metadata": {},
   "source": [
    "### General Syntax : [(expression) for element in iterable (if condition) for element in iterable (if condition)...]"
   ]
  },
  {
   "cell_type": "code",
   "execution_count": 121,
   "id": "7fd9335f-11ee-42bf-b743-f20112c053fc",
   "metadata": {},
   "outputs": [
    {
     "name": "stdout",
     "output_type": "stream",
     "text": [
      "[(0, 0), (0, 2), (0, 4), (2, 0), (2, 2), (2, 4), (4, 0), (4, 2), (4, 4), (6, 0), (6, 2), (6, 4), (8, 0), (8, 2), (8, 4)]\n"
     ]
    }
   ],
   "source": [
    "# Generate pairs of numbers where the sum is even\n",
    "pairs = [(x,y) for x in range(10) if x%2==0 for y in range(5) if y%2 ==0]\n",
    "print(pairs)"
   ]
  },
  {
   "cell_type": "markdown",
   "id": "d998dfe9-36f3-4ba3-9cf0-85993e184a1b",
   "metadata": {},
   "source": [
    "## Functions"
   ]
  },
  {
   "cell_type": "markdown",
   "id": "61aae73c-c1a5-41a9-859f-59a9d0908b12",
   "metadata": {},
   "source": [
    "### Functions are the block of organized reusable code"
   ]
  },
  {
   "cell_type": "markdown",
   "id": "1992a132-92b8-4663-8032-cdbe463325f4",
   "metadata": {},
   "source": [
    "### general syntax : def function_name(arguments): below this begins a function body\n"
   ]
  },
  {
   "cell_type": "code",
   "execution_count": 122,
   "id": "973ee71e-78eb-4373-a013-31026e0a1df9",
   "metadata": {},
   "outputs": [],
   "source": [
    "# to write a function that takes value as a parameter and returns an output\n",
    "def factorial(n):\n",
    "    if n == 1 :\n",
    "        return 1\n",
    "    else:\n",
    "        return n * factorial(n-1)"
   ]
  },
  {
   "cell_type": "code",
   "execution_count": 123,
   "id": "05bd06ce-eed3-4f25-87a4-e41acf3a8cee",
   "metadata": {},
   "outputs": [
    {
     "data": {
      "text/plain": [
       "120"
      ]
     },
     "execution_count": 123,
     "metadata": {},
     "output_type": "execute_result"
    }
   ],
   "source": [
    "factorial(5)"
   ]
  },
  {
   "cell_type": "code",
   "execution_count": 124,
   "id": "e5a5a11d-dfb7-4716-9b3b-e21d782a06de",
   "metadata": {},
   "outputs": [
    {
     "data": {
      "text/plain": [
       "3628800"
      ]
     },
     "execution_count": 124,
     "metadata": {},
     "output_type": "execute_result"
    }
   ],
   "source": [
    "factorial(10)"
   ]
  },
  {
   "cell_type": "code",
   "execution_count": 125,
   "id": "e8854eae-8a35-4baf-9096-f6a8175fe54d",
   "metadata": {},
   "outputs": [],
   "source": [
    "# function arguments with default parameters\n",
    "def func_with_params(name,age=25):\n",
    "    print(name,'----',age)\n",
    "    "
   ]
  },
  {
   "cell_type": "code",
   "execution_count": 126,
   "id": "94fb959c-c815-4481-99e1-8670206f4f48",
   "metadata": {},
   "outputs": [
    {
     "name": "stdout",
     "output_type": "stream",
     "text": [
      "Arsh ---- 25\n"
     ]
    }
   ],
   "source": [
    "func_with_params('Arsh')"
   ]
  },
  {
   "cell_type": "code",
   "execution_count": 127,
   "id": "42a92606-1910-4a04-9675-899f63b41b60",
   "metadata": {},
   "outputs": [
    {
     "name": "stdout",
     "output_type": "stream",
     "text": [
      "Arsh ---- 24\n"
     ]
    }
   ],
   "source": [
    "func_with_params('Arsh',24)"
   ]
  },
  {
   "cell_type": "code",
   "execution_count": 128,
   "id": "c65578b3-4f65-499e-8d80-9d5865c1659c",
   "metadata": {},
   "outputs": [],
   "source": [
    "#Note: Here Order Matters"
   ]
  },
  {
   "cell_type": "code",
   "execution_count": 129,
   "id": "f723fc84-e409-4569-93a4-1c108d4c7486",
   "metadata": {},
   "outputs": [],
   "source": [
    "## variable length argument func\n",
    "def var_func(*args):\n",
    "    print(args)"
   ]
  },
  {
   "cell_type": "code",
   "execution_count": 130,
   "id": "5b5d8fd1-0b68-48f9-a998-f776e0255eef",
   "metadata": {},
   "outputs": [
    {
     "name": "stdout",
     "output_type": "stream",
     "text": [
      "('arsh', 'mishra', 24)\n"
     ]
    }
   ],
   "source": [
    "var_func('arsh','mishra',24)"
   ]
  },
  {
   "cell_type": "code",
   "execution_count": 131,
   "id": "33d0d1a9-68a3-4acd-b003-f61b4f40332f",
   "metadata": {},
   "outputs": [],
   "source": [
    "# variable length arguments returns a tuple"
   ]
  },
  {
   "cell_type": "markdown",
   "id": "73944175-6c5b-413b-93df-3408a9fa6be9",
   "metadata": {},
   "source": [
    "## Lambda Functions or Anonymous Functions"
   ]
  },
  {
   "cell_type": "markdown",
   "id": "34894241-ac6f-4335-badc-b4fe41029e90",
   "metadata": {},
   "source": [
    "### Lambda functions are another way of defining functions to execute small functionalities occuring while implementing a complex functionality"
   ]
  },
  {
   "cell_type": "code",
   "execution_count": 132,
   "id": "2ba9a865-d880-478a-8aa0-9905967f0cc9",
   "metadata": {},
   "outputs": [],
   "source": [
    "## Syntax\n",
    "# lambda input parameters : expression"
   ]
  },
  {
   "cell_type": "code",
   "execution_count": 133,
   "id": "f7c89318-9597-4b57-a330-032e5b901d71",
   "metadata": {},
   "outputs": [],
   "source": [
    "## lambda func to check even or odd number\n",
    "check_iseven = lambda x : 'even' if x%2==0 else 'odd'"
   ]
  },
  {
   "cell_type": "code",
   "execution_count": 134,
   "id": "df9808ae-dc5f-4cb1-bcad-69e393d90c5f",
   "metadata": {},
   "outputs": [
    {
     "data": {
      "text/plain": [
       "'even'"
      ]
     },
     "execution_count": 134,
     "metadata": {},
     "output_type": "execute_result"
    }
   ],
   "source": [
    "check_iseven(2)"
   ]
  },
  {
   "cell_type": "code",
   "execution_count": 135,
   "id": "ee35dd50-c9b5-4fcf-b261-677faac9dc08",
   "metadata": {},
   "outputs": [
    {
     "data": {
      "text/plain": [
       "'odd'"
      ]
     },
     "execution_count": 135,
     "metadata": {},
     "output_type": "execute_result"
    }
   ],
   "source": [
    "check_iseven(3)"
   ]
  },
  {
   "cell_type": "code",
   "execution_count": 136,
   "id": "b47594a6-0bb0-4f96-841b-c8b8cffb2698",
   "metadata": {},
   "outputs": [],
   "source": [
    "# return square using lambda function\n",
    "square_it = lambda x: x**2"
   ]
  },
  {
   "cell_type": "code",
   "execution_count": 137,
   "id": "13733723-2659-46a5-9de2-a62d403b82d7",
   "metadata": {},
   "outputs": [
    {
     "data": {
      "text/plain": [
       "4"
      ]
     },
     "execution_count": 137,
     "metadata": {},
     "output_type": "execute_result"
    }
   ],
   "source": [
    "square_it(2)"
   ]
  },
  {
   "cell_type": "code",
   "execution_count": 138,
   "id": "6d17acdc-42a2-4b16-a6a6-bd9105b644cb",
   "metadata": {},
   "outputs": [
    {
     "data": {
      "text/plain": [
       "9"
      ]
     },
     "execution_count": 138,
     "metadata": {},
     "output_type": "execute_result"
    }
   ],
   "source": [
    "square_it(3)"
   ]
  },
  {
   "cell_type": "code",
   "execution_count": 139,
   "id": "034ab8ea-f6ff-47b8-87b5-87bd568b7c97",
   "metadata": {},
   "outputs": [],
   "source": [
    "# calculate the max of three numbers\n",
    "max_of_three = lambda x, y, z: x if (x > y and x > z) else (y if (y > z) else z)"
   ]
  },
  {
   "cell_type": "code",
   "execution_count": 140,
   "id": "2fa01d09-8779-4067-a903-196470185412",
   "metadata": {},
   "outputs": [],
   "source": [
    "#  in the first condition we are checking if x is greater than y and x is greater than z (if false -> it means x is less than y or x is less than z)\n",
    "# so comparing the variables y and z to check the maximum number"
   ]
  },
  {
   "cell_type": "code",
   "execution_count": 141,
   "id": "28d3d32a-cbf5-46b6-b47b-7e08d20ac950",
   "metadata": {},
   "outputs": [
    {
     "data": {
      "text/plain": [
       "3"
      ]
     },
     "execution_count": 141,
     "metadata": {},
     "output_type": "execute_result"
    }
   ],
   "source": [
    "max_of_three(1,2,3)"
   ]
  },
  {
   "cell_type": "code",
   "execution_count": 142,
   "id": "6dff5fbe-d0d5-4d3e-bb16-94a6d75c22d7",
   "metadata": {},
   "outputs": [
    {
     "data": {
      "text/plain": [
       "7"
      ]
     },
     "execution_count": 142,
     "metadata": {},
     "output_type": "execute_result"
    }
   ],
   "source": [
    "max_of_three(6,5,7)"
   ]
  },
  {
   "cell_type": "markdown",
   "id": "982f9751-819f-479b-870a-c6f2093b7931",
   "metadata": {},
   "source": [
    "## Map Function"
   ]
  },
  {
   "cell_type": "markdown",
   "id": "978862d1-6b53-420d-a7d4-bb8d87f4b334",
   "metadata": {},
   "source": [
    " Map is a function that works like the list comprehensions and for loops , it is used when we need to implement the func on multiple elements at the same time"
   ]
  },
  {
   "cell_type": "code",
   "execution_count": 143,
   "id": "7a34ca34-941d-41a8-acf8-f0cda31a1353",
   "metadata": {},
   "outputs": [],
   "source": [
    "# syntax : map(function,iterable,*iterables)\n",
    "# function - > the function that we want to apply on the iterable\n",
    "# iterable - > the iterable on which the function will be applied\n",
    "# *iterables - > (optional) list of iterables Note : number of iterables will be same as the number of arguments "
   ]
  },
  {
   "cell_type": "code",
   "execution_count": 144,
   "id": "d7329edd-8521-4291-bbb7-66a1d5eeaafa",
   "metadata": {},
   "outputs": [
    {
     "name": "stdout",
     "output_type": "stream",
     "text": [
      "[100, 400, 900, 1600, 2500]\n"
     ]
    }
   ],
   "source": [
    "# example 1\n",
    "# defining iterable\n",
    "iterable1 = [10,20,30,40,50]\n",
    "# defining function\n",
    "def square_number(x):\n",
    "    return x**2\n",
    "output_list1 = map(square_number,iterable1) \n",
    "print(list(output_list1))"
   ]
  },
  {
   "cell_type": "code",
   "execution_count": 145,
   "id": "1db574e7-d467-43e4-bd09-12686cd0a48e",
   "metadata": {},
   "outputs": [
    {
     "name": "stdout",
     "output_type": "stream",
     "text": [
      "[50, 50, 50, 50]\n"
     ]
    }
   ],
   "source": [
    "# example 2\n",
    "iter1 = [40,30,20,10]\n",
    "iter2 = [10,20,30,40]\n",
    "def calculate_sum(x,y):\n",
    "    return x+y\n",
    "output = list(map(calculate_sum,iter1,iter2)) \n",
    "print(output)"
   ]
  },
  {
   "cell_type": "markdown",
   "id": "b6aacd82-2f85-465d-be7e-61aad3fbcadf",
   "metadata": {},
   "source": [
    "## Filter Operation"
   ]
  },
  {
   "cell_type": "markdown",
   "id": "4dac3050-79fe-4c82-a95e-de9ba516ffda",
   "metadata": {},
   "source": [
    "Filter Operation is similar to map , the only distuinguishing feature is that it requires the function to look for the conditions and return only those that satisfies the condition"
   ]
  },
  {
   "cell_type": "markdown",
   "id": "669c1ad7-4f2f-4d38-9863-94ca557504fa",
   "metadata": {},
   "source": [
    "i.e. it is used to filter elements from an iterable based on a condition. It returns a new iterable (a filter object) containing only the elements for which the provided function returns True."
   ]
  },
  {
   "cell_type": "code",
   "execution_count": 146,
   "id": "b4f8957b-5750-448a-9e13-36ea459da3ff",
   "metadata": {},
   "outputs": [],
   "source": [
    "# Syntax : filter(function,iterable object)"
   ]
  },
  {
   "cell_type": "code",
   "execution_count": 147,
   "id": "91354a22-1688-47b6-a21d-e3b8e05539e3",
   "metadata": {},
   "outputs": [
    {
     "name": "stdout",
     "output_type": "stream",
     "text": [
      "[9, 6, 3]\n"
     ]
    }
   ],
   "source": [
    "# filter function to return the multiple of 3\n",
    "my_list = [9,8,7,6,5,4,3,2,1]\n",
    "print(list(filter(lambda x:x%3==0,my_list)))"
   ]
  },
  {
   "cell_type": "code",
   "execution_count": 148,
   "id": "520a3425-aa38-4e7e-9f4a-8cbb6ae8a1bb",
   "metadata": {},
   "outputs": [],
   "source": [
    "# write a python program to count the students above age 18 \n",
    "students_data = {\n",
    "    1 : ['sam',15],\n",
    "    2 : ['Ram',19],\n",
    "    3 : ['Yon',19]\n",
    "}"
   ]
  },
  {
   "cell_type": "code",
   "execution_count": 149,
   "id": "f78edc0e-b8f6-410c-8cb8-da540a2eab09",
   "metadata": {},
   "outputs": [],
   "source": [
    "f = lambda x : x[1]>18"
   ]
  },
  {
   "cell_type": "code",
   "execution_count": 150,
   "id": "8a914ecd-e079-4b4a-8d34-a6cbd2a4f062",
   "metadata": {},
   "outputs": [
    {
     "name": "stdout",
     "output_type": "stream",
     "text": [
      "[['Ram', 19], ['Yon', 19]]\n"
     ]
    }
   ],
   "source": [
    "print(list(filter(f,students_data.values())))"
   ]
  },
  {
   "cell_type": "code",
   "execution_count": 151,
   "id": "c3a02215-0998-4be1-b9ea-0fe124b00de8",
   "metadata": {},
   "outputs": [
    {
     "name": "stdout",
     "output_type": "stream",
     "text": [
      "2\n"
     ]
    }
   ],
   "source": [
    "# for count use len function\n",
    "print(len(list(filter(f,students_data.values()))))"
   ]
  },
  {
   "cell_type": "markdown",
   "id": "acb6017d-2e96-4bb8-a4c8-4cc3f2a5bc2e",
   "metadata": {},
   "source": [
    "## Reduce Functions"
   ]
  },
  {
   "cell_type": "markdown",
   "id": "edc7962b-f3b6-44e5-afbd-110d755ceab4",
   "metadata": {},
   "source": [
    "Reduce is an operation that breaks down the entire process into the pair wise operations and uses the result from each operation with the successive elements"
   ]
  },
  {
   "cell_type": "code",
   "execution_count": 152,
   "id": "d0a278a9-10e4-461f-a7ee-e7f70c64b116",
   "metadata": {},
   "outputs": [],
   "source": [
    "# Syntax : reduce(function,iterable object)"
   ]
  },
  {
   "cell_type": "code",
   "execution_count": 153,
   "id": "201e0cea-0370-44bd-aa54-c3e7164b3d19",
   "metadata": {},
   "outputs": [],
   "source": [
    "# The iterable object can be a string , tuple , list etc , Reduce function produces only one output"
   ]
  },
  {
   "cell_type": "code",
   "execution_count": 154,
   "id": "5217e96d-5626-45bd-8417-609c57de25e9",
   "metadata": {},
   "outputs": [],
   "source": [
    "from functools import reduce"
   ]
  },
  {
   "cell_type": "code",
   "execution_count": 155,
   "id": "4fd58065-f1d0-4eb0-888b-f5676a0f9223",
   "metadata": {},
   "outputs": [
    {
     "name": "stdout",
     "output_type": "stream",
     "text": [
      "362880\n"
     ]
    }
   ],
   "source": [
    "# reduce to produce the product of the elements of the iterable\n",
    "iter = [1,2,3,4,5,6,7,8,9]\n",
    "print(reduce(lambda x,y:x*y,iter))"
   ]
  },
  {
   "cell_type": "code",
   "execution_count": 156,
   "id": "4cc2b6ae-79ce-485e-b0df-e863cdfc3d96",
   "metadata": {},
   "outputs": [
    {
     "name": "stdout",
     "output_type": "stream",
     "text": [
      "48\n"
     ]
    }
   ],
   "source": [
    "# return the sum of all the elements in the list\n",
    "ls = [1,4,5,6,7,9,3,2,11]\n",
    "print(reduce(lambda x,y:x+y,ls))"
   ]
  },
  {
   "cell_type": "markdown",
   "id": "afb58290-3a69-4737-a8bc-a8a732958205",
   "metadata": {},
   "source": [
    "# Numpy"
   ]
  },
  {
   "cell_type": "markdown",
   "id": "ccdd9717-17f2-46c6-8718-4673c7d29aac",
   "metadata": {},
   "source": [
    "### Numpy stands for Numerical Python , it's a library used for extensive mathematical computation ."
   ]
  },
  {
   "cell_type": "markdown",
   "id": "49433e13-adec-499a-992b-f129400bd47c",
   "metadata": {},
   "source": [
    "### Numpy arrays are faster and are more convenient as compared to the traditional lists when it comes to computing"
   ]
  },
  {
   "cell_type": "markdown",
   "id": "1df26326-5fa1-47c1-ace9-a81f6d52b2ef",
   "metadata": {},
   "source": [
    "### NumPy arrays store elements of the same data type, which means the memory layout is contiguous and efficient.\n",
    "### Python lists can store elements of different data types, so each element is a separate object with its own metadata, leading to additional overhead."
   ]
  },
  {
   "cell_type": "markdown",
   "id": "89e5bf62-f9a8-407e-8296-b3814379a574",
   "metadata": {},
   "source": [
    "### NumPy arrays use contiguous blocks of memory, which allows the CPU to efficiently load data into its cache and perform operations quickly.\n",
    "### Python lists store references to objects that are scattered in memory, resulting in more time-consuming memory lookups."
   ]
  },
  {
   "cell_type": "code",
   "execution_count": 157,
   "id": "552857a0-80fb-490d-a23e-5470b9cae5e7",
   "metadata": {},
   "outputs": [],
   "source": [
    "import numpy as np"
   ]
  },
  {
   "cell_type": "code",
   "execution_count": 158,
   "id": "31316ad1-5d8a-483c-bf4d-f93b13dc2de3",
   "metadata": {},
   "outputs": [
    {
     "name": "stdout",
     "output_type": "stream",
     "text": [
      "[1 2 3 4 5]\n",
      "<class 'numpy.ndarray'>\n"
     ]
    }
   ],
   "source": [
    "# creating an array\n",
    "arr = np.array([1,2,3,4,5])\n",
    "print(arr)\n",
    "print(type(arr))"
   ]
  },
  {
   "cell_type": "code",
   "execution_count": 159,
   "id": "943c0846-b99a-419c-b765-ef139f4b7570",
   "metadata": {},
   "outputs": [
    {
     "data": {
      "text/plain": [
       "tuple"
      ]
     },
     "execution_count": 159,
     "metadata": {},
     "output_type": "execute_result"
    }
   ],
   "source": [
    "# creating array from tuple\n",
    "my_tup = (1,2,3,4,)\n",
    "type(my_tup)"
   ]
  },
  {
   "cell_type": "code",
   "execution_count": 160,
   "id": "3056de6d-a077-4a7e-9a02-e82bc4ea6cf4",
   "metadata": {},
   "outputs": [
    {
     "name": "stdout",
     "output_type": "stream",
     "text": [
      "Array :  [1 2 3 4] Dtype  :  <class 'numpy.ndarray'>\n",
      "List :  [1, 2, 3, 4] Dtype :  <class 'list'>\n"
     ]
    }
   ],
   "source": [
    "my_arr = np.array(my_tup)\n",
    "print(\"Array : \",my_arr, \"Dtype  : \",type(my_arr) )\n",
    "my_ls = [1,2,3,4]\n",
    "print(\"List : \",my_ls, \"Dtype : \",type(my_ls))"
   ]
  },
  {
   "cell_type": "code",
   "execution_count": 161,
   "id": "cac3bca8-b18b-4725-a55e-a2505c0a4595",
   "metadata": {},
   "outputs": [
    {
     "name": "stdout",
     "output_type": "stream",
     "text": [
      "version of the numpy is :  1.26.2\n"
     ]
    }
   ],
   "source": [
    "# checking the numpy version .__version__\n",
    "print(\"version of the numpy is : \",np.__version__)"
   ]
  },
  {
   "cell_type": "markdown",
   "id": "ac27b633-1c70-4716-a1b2-f73295dba761",
   "metadata": {},
   "source": [
    "### Dimensions of the array 0D , 1D , 2D , 3D"
   ]
  },
  {
   "cell_type": "code",
   "execution_count": 162,
   "id": "805e4dfe-e6bb-4345-9533-efc8594cf476",
   "metadata": {},
   "outputs": [],
   "source": [
    "# for checking the dimensions of the array we use .ndim\n"
   ]
  },
  {
   "cell_type": "code",
   "execution_count": 163,
   "id": "0bbd0b35-c9f5-4040-9feb-c8fae7054031",
   "metadata": {},
   "outputs": [
    {
     "name": "stdout",
     "output_type": "stream",
     "text": [
      "10\n",
      "0\n"
     ]
    }
   ],
   "source": [
    "# 0D Array aka Scalars\n",
    "zero_d_arr = np.array(10)\n",
    "print(zero_d_arr)\n",
    "print(zero_d_arr.ndim)"
   ]
  },
  {
   "cell_type": "code",
   "execution_count": 164,
   "id": "588717c0-95c2-4d07-a574-d1a75c4f7e56",
   "metadata": {},
   "outputs": [
    {
     "name": "stdout",
     "output_type": "stream",
     "text": [
      "[1 2 3 4 5]\n",
      "1\n"
     ]
    }
   ],
   "source": [
    "# 1D Array : An array that have 0D elements (scalars) as its elements\n",
    "one_d_arr = np.array([1,2,3,4,5])\n",
    "print(one_d_arr)\n",
    "print(one_d_arr.ndim)"
   ]
  },
  {
   "cell_type": "code",
   "execution_count": 165,
   "id": "03262509-dcf8-4262-88c6-28c4bc265028",
   "metadata": {},
   "outputs": [
    {
     "name": "stdout",
     "output_type": "stream",
     "text": [
      "[[1 2 3]\n",
      " [4 5 6]]\n",
      "2\n"
     ]
    }
   ],
   "source": [
    "# 2D Array : An array that have 1D array as its elements\n",
    "two_d_arr = np.array([[1,2,3],[4,5,6]])\n",
    "print(two_d_arr)\n",
    "print(two_d_arr.ndim)"
   ]
  },
  {
   "cell_type": "code",
   "execution_count": 166,
   "id": "c1f2658e-4c15-46bd-85e6-c55f860967aa",
   "metadata": {},
   "outputs": [
    {
     "name": "stdout",
     "output_type": "stream",
     "text": [
      "[[[ 1  2  3]\n",
      "  [ 4  5  6]]\n",
      "\n",
      " [[ 7  8  9]\n",
      "  [10 11 12]]]\n",
      "3\n"
     ]
    }
   ],
   "source": [
    "# Three Dimension : An array that has 2D array as its elements \n",
    "three_d_arr = np.array([[[1,2,3],[4,5,6]],[[7,8,9],[10,11,12]]])\n",
    "print(three_d_arr)\n",
    "print(three_d_arr.ndim)"
   ]
  },
  {
   "cell_type": "code",
   "execution_count": 167,
   "id": "8caa55d3-dc09-40d5-853a-0778c9c53995",
   "metadata": {},
   "outputs": [],
   "source": [
    "# other way to check the dimensions is to see the number of ] at the end of the array eg in the above case it's 3 ] so 3D"
   ]
  },
  {
   "cell_type": "markdown",
   "id": "0f9e0b59-ba33-4b16-a2a9-cf6b9b874e28",
   "metadata": {},
   "source": [
    "### Numpy array indexing"
   ]
  },
  {
   "cell_type": "code",
   "execution_count": 168,
   "id": "bad4d56e-d1bb-4c9f-8996-89b56f7eff88",
   "metadata": {},
   "outputs": [
    {
     "name": "stdout",
     "output_type": "stream",
     "text": [
      "First element :  1\n",
      "Last element :  4\n",
      "Second element :  2\n"
     ]
    }
   ],
   "source": [
    "arr = np.array([1,2,3,4])\n",
    "print(\"First element : \",arr[0])\n",
    "print(\"Last element : \",arr[-1])\n",
    "print(\"Second element : \",arr[1])"
   ]
  },
  {
   "cell_type": "code",
   "execution_count": 169,
   "id": "b6e79960-b0d7-4aa4-b034-23558b53aab7",
   "metadata": {},
   "outputs": [
    {
     "name": "stdout",
     "output_type": "stream",
     "text": [
      "Array Entered :  [[1 2 3]\n",
      " [4 5 6]]\n",
      "Dimension :  2\n"
     ]
    }
   ],
   "source": [
    "# accessing the 2D Elements\n",
    "arr = np.array([[1,2,3],[4,5,6]])\n",
    "print(\"Array Entered : \",arr)\n",
    "print(\"Dimension : \",arr.ndim)"
   ]
  },
  {
   "cell_type": "code",
   "execution_count": 170,
   "id": "34a83cfb-b9c5-44da-bf47-fb0c811b9740",
   "metadata": {},
   "outputs": [
    {
     "name": "stdout",
     "output_type": "stream",
     "text": [
      "4\n",
      "4\n"
     ]
    }
   ],
   "source": [
    "# Syntax   :  array[row index,col index]\n",
    "# example : to access 4\n",
    "# below are the two ways\n",
    "print(arr[1,0])\n",
    "print(arr[1][0])"
   ]
  },
  {
   "cell_type": "code",
   "execution_count": 171,
   "id": "81138144-a60c-442e-b935-3a7ef8d5d2f0",
   "metadata": {},
   "outputs": [
    {
     "name": "stdout",
     "output_type": "stream",
     "text": [
      "6\n"
     ]
    }
   ],
   "source": [
    "# printing 6\n",
    "print(arr[1][-1])"
   ]
  },
  {
   "cell_type": "code",
   "execution_count": 172,
   "id": "e404b49e-e3f8-42c8-9e8b-af7dfcbbbee1",
   "metadata": {},
   "outputs": [
    {
     "name": "stdout",
     "output_type": "stream",
     "text": [
      "[[[ 1  2  3]\n",
      "  [ 4  5  6]]\n",
      "\n",
      " [[ 7  8  9]\n",
      "  [10 11 12]]]\n"
     ]
    }
   ],
   "source": [
    "# Three Dimension : An array that has 2D array as its elements \n",
    "arr = np.array([[[1,2,3],[4,5,6]],[[7,8,9],[10,11,12]]])\n",
    "print(arr)"
   ]
  },
  {
   "cell_type": "code",
   "execution_count": 173,
   "id": "1d8f7486-ae06-4ab2-b439-c44a3f803d84",
   "metadata": {},
   "outputs": [
    {
     "name": "stdout",
     "output_type": "stream",
     "text": [
      "[[ 7  8  9]\n",
      " [10 11 12]]\n"
     ]
    }
   ],
   "source": [
    "# printing 12\n",
    "print(arr[1])"
   ]
  },
  {
   "cell_type": "code",
   "execution_count": 174,
   "id": "c0efb6d2-4fab-41e9-824c-a5f901ae9131",
   "metadata": {},
   "outputs": [
    {
     "name": "stdout",
     "output_type": "stream",
     "text": [
      "[10 11 12]\n"
     ]
    }
   ],
   "source": [
    "print(arr[1][1])"
   ]
  },
  {
   "cell_type": "code",
   "execution_count": 175,
   "id": "7999e137-ad89-48e5-8725-87975b8906f0",
   "metadata": {},
   "outputs": [
    {
     "name": "stdout",
     "output_type": "stream",
     "text": [
      "12\n",
      "12\n"
     ]
    }
   ],
   "source": [
    "print(arr[1][1][-1])\n",
    "print(arr[1,1,-1])"
   ]
  },
  {
   "cell_type": "markdown",
   "id": "47d43429-2357-4f42-88e9-72d65c358a3d",
   "metadata": {},
   "source": [
    "### Slicing arrays \n",
    "Slicing in python means taking elements from one index to another index. \n",
    "\n",
    "Syntax  : [start index:stop index:stepsize] Note : default value of step size is 1 <br/>\n",
    "If we dont pass start it is considered as 0.<br/>\n",
    "If we dont pass end it is considered as the length of the array.\n",
    "<br/>\n",
    "<br/>\n",
    "Note : The result consider includes the starting index but exclude the ending index , it only considers (last index -1) ."
   ]
  },
  {
   "cell_type": "code",
   "execution_count": 176,
   "id": "30748873-22e6-460b-97ea-a82c56746f1e",
   "metadata": {},
   "outputs": [
    {
     "name": "stdout",
     "output_type": "stream",
     "text": [
      "[1 2 3 4 5 6 7]\n",
      "Sliced elements from 2 to 7 :  [2 3 4 5 6 7]\n",
      "Sliced elements from beginning to 5 :  [1 2 3 4 5]\n",
      "Slicing with a step size of 2 :  [1 3 5 7]\n"
     ]
    }
   ],
   "source": [
    "arr = np.array([1,2,3,4,5,6,7])\n",
    "print(arr)\n",
    "print(\"Sliced elements from 2 to 7 : \",arr[1:])\n",
    "print(\"Sliced elements from beginning to 5 : \",arr[:5])\n",
    "print(\"Slicing with a step size of 2 : \",arr[::2])"
   ]
  },
  {
   "cell_type": "code",
   "execution_count": 177,
   "id": "4243a5e2-0338-4b59-86d5-0f752cfb8eef",
   "metadata": {},
   "outputs": [
    {
     "name": "stdout",
     "output_type": "stream",
     "text": [
      "[4 5 6]\n",
      "[2 4 6]\n"
     ]
    }
   ],
   "source": [
    "# Negative Slicing \n",
    "print(arr[-4:-1])\n",
    "print(arr[-6::2])"
   ]
  },
  {
   "cell_type": "code",
   "execution_count": 178,
   "id": "c8b0fba5-e071-403e-ba58-6973475b94b2",
   "metadata": {},
   "outputs": [
    {
     "name": "stdout",
     "output_type": "stream",
     "text": [
      "2\n",
      "[5 6]\n"
     ]
    }
   ],
   "source": [
    "# slicing in 2D arrays\n",
    "arr = np.array([[1,2,3],[4,5,6]])\n",
    "print(arr.ndim)\n",
    "print(arr[1,1:])"
   ]
  },
  {
   "cell_type": "code",
   "execution_count": 179,
   "id": "77b77879-e028-448b-95a2-29f99527b27f",
   "metadata": {},
   "outputs": [],
   "source": [
    "# syntax is start:stop:stepsize "
   ]
  },
  {
   "cell_type": "markdown",
   "id": "a9115bc4-f9b1-4961-bf39-f9f6ed21a451",
   "metadata": {},
   "source": [
    "### Converting dataype on the existing arrays \n",
    "The best way to convert the datatype of the existing array is to make the copy of the array with astype() function , this function creates a copy of the array and allows us to specify the datatype as the parameter ."
   ]
  },
  {
   "cell_type": "code",
   "execution_count": 180,
   "id": "3f35264f-a4e0-4bd8-8246-8a36a9504e14",
   "metadata": {},
   "outputs": [
    {
     "name": "stdout",
     "output_type": "stream",
     "text": [
      "[1.2 2.3 3.4]\n",
      "[1 2 3]\n"
     ]
    }
   ],
   "source": [
    "arr = np.array([1.2,2.3,3.4])\n",
    "new_arr = arr.astype('i')\n",
    "print(arr)\n",
    "print(new_arr)"
   ]
  },
  {
   "cell_type": "code",
   "execution_count": 181,
   "id": "bf371275-705a-4a29-b9f3-9f526daa0b3f",
   "metadata": {},
   "outputs": [
    {
     "name": "stdout",
     "output_type": "stream",
     "text": [
      "1\n"
     ]
    }
   ],
   "source": [
    "print(int(1.9))"
   ]
  },
  {
   "cell_type": "code",
   "execution_count": 182,
   "id": "15a464e3-07b2-4665-9858-627e2ed7cd8e",
   "metadata": {},
   "outputs": [],
   "source": [
    "# while making the conversion from float to int all the values after the decimal point will be removed."
   ]
  },
  {
   "cell_type": "markdown",
   "id": "d6952025-b5cf-4aa8-8767-51a7a45b36ff",
   "metadata": {},
   "source": [
    "### Numpy Copy Vs View \n",
    "\n",
    "The main difference between the two is that copy creates a totally new array so that the new array and the original arrays are seperate , but in case of view , the view is just the image of the original array , so any change in the original array or the view will reflect in the other one , whereas in case of copy any change made in the original array wont have any impact on the copied array."
   ]
  },
  {
   "cell_type": "code",
   "execution_count": 183,
   "id": "6c73cf44-6547-4bb9-bf6b-215a49e5c11c",
   "metadata": {},
   "outputs": [
    {
     "name": "stdout",
     "output_type": "stream",
     "text": [
      "Original :  [10  2  3]\n",
      "Copied :  [1 2 3]\n"
     ]
    }
   ],
   "source": [
    "# example of copy()\n",
    "original_arr = np.array([1,2,3])\n",
    "copied_arr = original_arr.copy()\n",
    "original_arr[0] = 10\n",
    "print(\"Original : \",original_arr)\n",
    "print(\"Copied : \",copied_arr)"
   ]
  },
  {
   "cell_type": "code",
   "execution_count": 184,
   "id": "131ca76c-58be-461b-b49b-5f40a7af90fa",
   "metadata": {},
   "outputs": [
    {
     "name": "stdout",
     "output_type": "stream",
     "text": [
      "Original :  [10  2  3]\n",
      "View :  [10  2  3]\n"
     ]
    }
   ],
   "source": [
    "# example of view()\n",
    "original_arr = np.array([1,2,3])\n",
    "view_arr = original_arr.view()\n",
    "original_arr[0] = 10\n",
    "print(\"Original : \",original_arr)\n",
    "print(\"View : \",view_arr)"
   ]
  },
  {
   "cell_type": "markdown",
   "id": "6abf0448-0aa3-4ce7-9871-29ca69761a13",
   "metadata": {},
   "source": [
    "### Numpy array shape \n",
    "\n",
    "It tells the number of elements in each dimension , for this we use .shape() function"
   ]
  },
  {
   "cell_type": "code",
   "execution_count": 185,
   "id": "ecb33ce0-bcbc-4308-897d-9ebb787dc26f",
   "metadata": {},
   "outputs": [
    {
     "name": "stdout",
     "output_type": "stream",
     "text": [
      "(3,)\n",
      "----\n",
      "(2, 3)\n"
     ]
    }
   ],
   "source": [
    "arr1 = np.array([1,2,3])\n",
    "print(arr1.shape)\n",
    "print('----')\n",
    "arr2 = np.array([[1,2,3],[4,5,6]])\n",
    "print(arr2.shape)"
   ]
  },
  {
   "cell_type": "markdown",
   "id": "4da1a4ae-d752-40e0-bba1-db1e006965d0",
   "metadata": {},
   "source": [
    "### Numpy array reshaping \n",
    "\n",
    "It is usefull when we want to change the shape of the existing array to the new array , but the number of elements before and after change must be same."
   ]
  },
  {
   "cell_type": "code",
   "execution_count": 186,
   "id": "e7691d65-df56-4908-b3fd-f90cd7bdbef2",
   "metadata": {},
   "outputs": [
    {
     "name": "stdout",
     "output_type": "stream",
     "text": [
      "[1 2 3 4 5 6]\n",
      "------\n",
      "[[1 2]\n",
      " [3 4]\n",
      " [5 6]]\n",
      "------\n",
      "[[1 2 3]\n",
      " [4 5 6]]\n"
     ]
    }
   ],
   "source": [
    "arr = np.array([1,2,3,4,5,6])\n",
    "print(arr)\n",
    "print('------')\n",
    "arr2 = arr.reshape(3,2)\n",
    "print(arr2)\n",
    "print('------')\n",
    "arr3 = arr.reshape(2,3)\n",
    "print(arr3)"
   ]
  },
  {
   "cell_type": "markdown",
   "id": "9acba9f0-32da-4be9-b141-e23308dba3d4",
   "metadata": {},
   "source": [
    "### Array Flattening"
   ]
  },
  {
   "cell_type": "code",
   "execution_count": 187,
   "id": "1df59ed0-5c50-4f1c-a324-8f9a67284e8e",
   "metadata": {},
   "outputs": [
    {
     "name": "stdout",
     "output_type": "stream",
     "text": [
      "[[1 2 3]\n",
      " [4 5 6]]\n"
     ]
    }
   ],
   "source": [
    "print(arr3)"
   ]
  },
  {
   "cell_type": "code",
   "execution_count": 188,
   "id": "b5b6a3d7-c798-4b91-989b-602d8a3c814b",
   "metadata": {},
   "outputs": [
    {
     "name": "stdout",
     "output_type": "stream",
     "text": [
      "[1 2 3 4 5 6]\n"
     ]
    }
   ],
   "source": [
    "flattened_array = arr3.reshape(-1)\n",
    "print(flattened_array)"
   ]
  },
  {
   "cell_type": "markdown",
   "id": "8900a9d1-3a77-46ce-9dc4-7c00ab652ba3",
   "metadata": {},
   "source": [
    "### Numpy array itertion \n",
    "\n",
    "It means going through each element one by one."
   ]
  },
  {
   "cell_type": "code",
   "execution_count": 189,
   "id": "e34230c7-8477-4d7b-94d1-1c4b20545553",
   "metadata": {},
   "outputs": [
    {
     "name": "stdout",
     "output_type": "stream",
     "text": [
      "1--2--3--4--5--6--7--8--9--"
     ]
    }
   ],
   "source": [
    "arr = np.array([1,2,3,4,5,6,7,8,9])\n",
    "for ele in arr:\n",
    "    print(ele , end = '--')"
   ]
  },
  {
   "cell_type": "code",
   "execution_count": 190,
   "id": "67c70128-1089-4778-909b-4b5b44cea281",
   "metadata": {},
   "outputs": [
    {
     "name": "stdout",
     "output_type": "stream",
     "text": [
      "[1 2 3]\n",
      "---------\n",
      "1\n",
      "2\n",
      "3\n",
      "[4 5 6]\n",
      "---------\n",
      "4\n",
      "5\n",
      "6\n"
     ]
    }
   ],
   "source": [
    "arr = np.array([[1,2,3],[4,5,6]])\n",
    "for row in arr:\n",
    "    print(row)\n",
    "    print('---------')\n",
    "    for col in row:\n",
    "        print(col )"
   ]
  },
  {
   "cell_type": "markdown",
   "id": "b952bea3-dd6c-4056-9348-4202bd21dd83",
   "metadata": {},
   "source": [
    "### Numpy searching arrays\n",
    "\n",
    "We can search an array for a certain value and return the index that get's a match. For this we use .where() function "
   ]
  },
  {
   "cell_type": "code",
   "execution_count": 191,
   "id": "6c9e2c4e-b06d-4fd6-b94b-eab6572f046e",
   "metadata": {},
   "outputs": [
    {
     "name": "stdout",
     "output_type": "stream",
     "text": [
      "(array([3, 5, 6], dtype=int64),)\n",
      "(array([1, 7], dtype=int64),)\n"
     ]
    }
   ],
   "source": [
    "arr = np.array([1,2,3,4,5,4,4,2,1])\n",
    "print(np.where(arr==4))\n",
    "print(np.where(arr==2))"
   ]
  },
  {
   "cell_type": "markdown",
   "id": "caa454b2-ee23-4128-97e9-d3b9e91881ca",
   "metadata": {},
   "source": [
    "### Numpy vs List"
   ]
  },
  {
   "cell_type": "code",
   "execution_count": 192,
   "id": "f447b7ee-2eba-495d-9b73-343bfef0121a",
   "metadata": {},
   "outputs": [
    {
     "name": "stdout",
     "output_type": "stream",
     "text": [
      "[187.22, 189.74999999999997, 182.16, 182.16, 179.63]\n"
     ]
    }
   ],
   "source": [
    "heights = [74 ,75 , 72,72,71]\n",
    "\n",
    "#Now if we want to multiply heights by 2.54 we will get an error\n",
    "# heights * 2.54  --- >  can't multiply sequence by non-int of type 'float'\n",
    "# so for doing this we need to use for loop or the list comprehensions\n",
    "formatted_heights = [2.53*x for x in heights]\n",
    "print(formatted_heights)"
   ]
  },
  {
   "cell_type": "code",
   "execution_count": 193,
   "id": "f336e36e-23d1-489f-9d58-149c11bdf13f",
   "metadata": {},
   "outputs": [
    {
     "name": "stdout",
     "output_type": "stream",
     "text": [
      "[187.22 189.75 182.16 182.16 179.63]\n"
     ]
    }
   ],
   "source": [
    "# Better soln is to use the numpy arrays for this because numpy has the capability to perform element wise operations\n",
    "\n",
    "heights_arr = np.array(heights)\n",
    "print(heights_arr * 2.53)"
   ]
  },
  {
   "cell_type": "code",
   "execution_count": 194,
   "id": "62cabf43-2342-4a56-b08c-af1128ecfe3b",
   "metadata": {},
   "outputs": [
    {
     "data": {
      "text/plain": [
       "numpy.ndarray"
      ]
     },
     "execution_count": 194,
     "metadata": {},
     "output_type": "execute_result"
    }
   ],
   "source": [
    "# to check the type of the heights_arr\n",
    "type(heights_arr)"
   ]
  },
  {
   "cell_type": "code",
   "execution_count": 195,
   "id": "1a1180db-a1f4-4430-985b-a3440de773f0",
   "metadata": {},
   "outputs": [
    {
     "name": "stdout",
     "output_type": "stream",
     "text": [
      "Sum of elements :  15\n",
      "add operation :  [6 6 6 6 6]\n",
      "sub operation :  [-4 -2  0  2  4]\n",
      "division operation :  [0.2 0.5 1.  2.  5. ]\n",
      "multiplication operation :  [5 8 9 8 5]\n"
     ]
    }
   ],
   "source": [
    "# Performing operations on numpy arrays\n",
    "\n",
    "arr1 = np.array([1,2,3,4,5])\n",
    "print(\"Sum of elements : \",sum(arr1))\n",
    "arr2 = np.array([5,4,3,2,1])\n",
    "print(\"add operation : \",arr1+arr2)\n",
    "print(\"sub operation : \",arr1-arr2)\n",
    "print(\"division operation : \",arr1/arr2)\n",
    "print(\"multiplication operation : \",arr1*arr2)"
   ]
  },
  {
   "cell_type": "code",
   "execution_count": 196,
   "id": "cd932f2c-d77b-4d88-a29b-3991bed6bb20",
   "metadata": {},
   "outputs": [],
   "source": [
    "# note : operations are happening between the elements i.e. these are element wise operations"
   ]
  },
  {
   "cell_type": "markdown",
   "id": "226a1e17-4e43-4a49-b82b-d06b4b4706c4",
   "metadata": {},
   "source": [
    "<h2 style = \"color : Brown\"> Case Study - Cricket Tournament </h2>\n",
    "\n",
    "A panel wants to select players for an upcoming league match based on their fitness. Players from all significant cricket clubs have participated in a practice match, and their data is collected. Let us now explore NumPy features using the player's data.</font>\n",
    "\n",
    "<h4 style = \"color : Sky blue\"> Example - 1</h4>  \n",
    "\n",
    "#### Heights of the players is stored as a regular Python list: height_in. The height is expressed in inches. Can you make a numpy array out of it ?"
   ]
  },
  {
   "cell_type": "code",
   "execution_count": 197,
   "id": "4cf97b7d-0ba1-441e-97a8-61d35d499ac0",
   "metadata": {},
   "outputs": [],
   "source": [
    "# Define list\n",
    "heights = [74, 74, 72, 72, 73, 69, 69, 71, 76, 71, 73, 73, 74, 74, 69, 70, 73, 75, 78, 79, 76, 74, 76, 72, 71, 75, 77, 74, 73, 74, 78, 73, 75, 73, 75, 75, 74, 69, 71, 74, 73, 73, 76, 74, 74, 70, 72, 77, 74, 70, 73, 75, 76, 76, 78, 74, 74, 76, 77, 81, 78, 75, 77, 75, 76, 74, 72, 72, 75, 73, 73, 73, 70, 70, 70, 76, 68, 71, 72, 75, 75, 75, 75, 68, 74, 78, 71, 73, 76, 74, 74, 79, 75, 73, 76, 74, 74, 73, 72, 74, 73, 74, 72, 73, 69, 72, 73, 75, 75, 73, 72, 72, 76, 74, 72, 77, 74, 77, 75, 76, 80, 74, 74, 75, 78, 73, 73, 74, 75, 76, 71, 73, 74, 76, 76, 74, 73, 74, 70, 72, 73, 73, 73, 73, 71, 74, 74, 72, 74, 71, 74, 73, 75, 75, 79, 73, 75, 76, 74, 76, 78, 74, 76, 72, 74, 76, 74, 75, 78, 75, 72, 74, 72, 74, 70, 71, 70, 75, 71, 71, 73, 72, 71, 73, 72, 75, 74, 74, 75, 73, 77, 73, 76, 75, 74, 76, 75, 73, 71, 76, 75, 72, 71, 77, 73, 74, 71, 72, 74, 75, 73, 72, 75, 75, 74, 72, 74, 71, 70, 74, 77, 77, 75, 75, 78, 75, 76, 73, 75, 75, 79, 77, 76, 71, 75, 74, 69, 71, 76, 72, 72, 70, 72, 73, 71, 72, 71, 73, 72, 73, 74, 74, 72, 75, 74, 74, 77, 75, 73, 72, 71, 74, 77, 75, 75, 75, 78, 78, 74, 76, 78, 76, 70, 72, 80, 74, 74, 71, 70, 72, 71, 74, 71, 72, 71, 74, 69, 76, 75, 75, 76, 73, 76, 73, 77, 73, 72, 72, 77, 77, 71, 74, 74, 73, 78, 75, 73, 70, 74, 72, 73, 73, 75, 75, 74, 76, 73, 74, 75, 75, 72, 73, 73, 72, 74, 78, 76, 73, 74, 75, 70, 75, 71, 72, 78, 75, 73, 73, 71, 75, 77, 72, 69, 73, 74, 72, 70, 75, 70, 72, 72, 74, 73, 74, 76, 75, 80, 72, 75, 73, 74, 74, 73, 75, 75, 71, 73, 75, 74, 74, 72, 74, 74, 74, 73, 76, 75, 72, 73, 73, 73, 72, 72, 72, 72, 71, 75, 75, 74, 73, 75, 79, 74, 76, 73, 74, 74, 72, 74, 74, 75, 78, 74, 74, 74, 77, 70, 73, 74, 73, 71, 75, 71, 72, 77, 74, 70, 77, 73, 72, 76, 71, 76, 78, 75, 73, 78, 74, 79, 75, 76, 72, 75, 75, 70, 72, 70, 74, 71, 76, 73, 76, 71, 69, 72, 72, 69, 73, 69, 73, 74, 74, 72, 71, 72, 72, 76, 76, 76, 74, 76, 75, 71, 72, 71, 73, 75, 76, 75, 71, 75, 74, 72, 73, 73, 73, 73, 76, 72, 76, 73, 73, 73, 75, 75, 77, 73, 72, 75, 70, 74, 72, 80, 71, 71, 74, 74, 73, 75, 76, 73, 77, 72, 73, 77, 76, 71, 75, 73, 74, 77, 71, 72, 73, 69, 73, 70, 74, 76, 73, 73, 75, 73, 79, 74, 73, 74, 77, 75, 74, 73, 77, 73, 77, 74, 74, 73, 77, 74, 77, 75, 77, 75, 71, 74, 70, 79, 72, 72, 70, 74, 74, 72, 73, 72, 74, 74, 76, 82, 74, 74, 70, 73, 73, 74, 77, 72, 76, 73, 73, 72, 74, 74, 71, 72, 75, 74, 74, 77, 70, 71, 73, 76, 71, 75, 74, 72, 76, 79, 76, 73, 76, 78, 75, 76, 72, 72, 73, 73, 75, 71, 76, 70, 75, 74, 75, 73, 71, 71, 72, 73, 73, 72, 69, 73, 78, 71, 73, 75, 76, 70, 74, 77, 75, 79, 72, 77, 73, 75, 75, 75, 73, 73, 76, 77, 75, 70, 71, 71, 75, 74, 69, 70, 75, 72, 75, 73, 72, 72, 72, 76, 75, 74, 69, 73, 72, 72, 75, 77, 76, 80, 77, 76, 79, 71, 75, 73, 76, 77, 73, 76, 70, 75, 73, 75, 70, 69, 71, 72, 72, 73, 70, 70, 73, 76, 75, 72, 73, 79, 71, 72, 74, 74, 74, 72, 76, 76, 72, 72, 71, 72, 72, 70, 77, 74, 72, 76, 71, 76, 71, 73, 70, 73, 73, 72, 71, 71, 71, 72, 72, 74, 74, 74, 71, 72, 75, 72, 71, 72, 72, 72, 72, 74, 74, 77, 75, 73, 75, 73, 76, 72, 77, 75, 72, 71, 71, 75, 72, 73, 73, 71, 70, 75, 71, 76, 73, 68, 71, 72, 74, 77, 72, 76, 78, 81, 72, 73, 76, 72, 72, 74, 76, 73, 76, 75, 70, 71, 74, 72, 73, 76, 76, 73, 71, 68, 71, 71, 74, 77, 69, 72, 76, 75, 76, 75, 76, 72, 74, 76, 74, 72, 75, 78, 77, 70, 72, 79, 74, 71, 68, 77, 75, 71, 72, 70, 72, 72, 73, 72, 74, 72, 72, 75, 72, 73, 74, 72, 78, 75, 72, 74, 75, 75, 76, 74, 74, 73, 74, 71, 74, 75, 76, 74, 76, 76, 73, 75, 75, 74, 68, 72, 75, 71, 70, 72, 73, 72, 75, 74, 70, 76, 71, 82, 72, 73, 74, 71, 75, 77, 72, 74, 72, 73, 78, 77, 73, 73, 73, 73, 73, 76, 75, 70, 73, 72, 73, 75, 74, 73, 73, 76, 73, 75, 70, 77, 72, 77, 74, 75, 75, 75, 75, 72, 74, 71, 76, 71, 75, 76, 83, 75, 74, 76, 72, 72, 75, 75, 72, 77, 73, 72, 70, 74, 72, 74, 72, 71, 70, 71, 76, 74, 76, 74, 74, 74, 75, 75, 71, 71, 74, 77, 71, 74, 75, 77, 76, 74, 76, 72, 71, 72, 75, 73, 68, 72, 69, 73, 73, 75, 70, 70, 74, 75, 74, 74, 73, 74, 75, 77, 73, 74, 76, 74, 75, 73, 76, 78, 75, 73, 77, 74, 72, 74, 72, 71, 73, 75, 73, 67, 67, 76, 74, 73, 70, 75, 70, 72, 77, 79, 78, 74, 75, 75, 78, 76, 75, 69, 75, 72, 75, 73, 74, 75, 75, 73]"
   ]
  },
  {
   "cell_type": "code",
   "execution_count": 198,
   "id": "69d6fd1e-27b8-4f8b-881e-a17b9b635588",
   "metadata": {},
   "outputs": [],
   "source": [
    "#converting to numpy arrays\n",
    "heights_arr = np.array(heights)"
   ]
  },
  {
   "cell_type": "code",
   "execution_count": 199,
   "id": "2e4841d6-a069-4df4-8ce6-004ff72e6c77",
   "metadata": {},
   "outputs": [
    {
     "data": {
      "text/plain": [
       "1015"
      ]
     },
     "execution_count": 199,
     "metadata": {},
     "output_type": "execute_result"
    }
   ],
   "source": [
    "# for counting the number of participants\n",
    "len(heights_arr)"
   ]
  },
  {
   "cell_type": "code",
   "execution_count": 200,
   "id": "8d86fec0-3be2-40eb-9f79-ae9c3f828ab9",
   "metadata": {},
   "outputs": [
    {
     "data": {
      "text/plain": [
       "(1015,)"
      ]
     },
     "execution_count": 200,
     "metadata": {},
     "output_type": "execute_result"
    }
   ],
   "source": [
    "heights_arr.shape"
   ]
  },
  {
   "cell_type": "code",
   "execution_count": 201,
   "id": "7277a5b6-9801-45a2-bf9a-c0b206b40da1",
   "metadata": {},
   "outputs": [
    {
     "data": {
      "text/plain": [
       "1015"
      ]
     },
     "execution_count": 201,
     "metadata": {},
     "output_type": "execute_result"
    }
   ],
   "source": [
    "heights_arr.size"
   ]
  },
  {
   "cell_type": "code",
   "execution_count": 202,
   "id": "d1eab895-a3ff-4d58-b3c2-12d82f10f206",
   "metadata": {},
   "outputs": [],
   "source": [
    "# converting the heights from inches to meters\n",
    "heights_mtrs = heights_arr * 0.0254"
   ]
  },
  {
   "cell_type": "code",
   "execution_count": 203,
   "id": "1b85e814-5ad0-439a-8595-d737a4e7a96c",
   "metadata": {},
   "outputs": [
    {
     "name": "stdout",
     "output_type": "stream",
     "text": [
      "[1.8796 1.8796 1.8288 1.8288 1.8542 1.7526 1.7526 1.8034 1.9304 1.8034]\n"
     ]
    }
   ],
   "source": [
    "print(heights_mtrs[:10])"
   ]
  },
  {
   "cell_type": "markdown",
   "id": "f34fa658-af68-47b1-90ec-c64a14703c43",
   "metadata": {},
   "source": [
    "<h4 style = \"color : Sky blue\"> Example - 4</h4>\n",
    "\n",
    "#### A list of weights (in lbs) of the players is provided. Convert it to kg and calculate BMI"
   ]
  },
  {
   "cell_type": "code",
   "execution_count": 204,
   "id": "770852a8-b357-4ac5-8a80-fc5fc0d1abe7",
   "metadata": {},
   "outputs": [],
   "source": [
    "weights_lb = [180, 215, 210, 210, 188, 176, 209, 200, 231, 180, 188, 180, 185, 160, 180, 185, 189, 185, 219, 230, 205, 230, 195, 180, 192, 225, 203, 195, 182, 188, 200, 180, 200, 200, 245, 240, 215, 185, 175, 199, 200, 215, 200, 205, 206, 186, 188, 220, 210, 195, 200, 200, 212, 224, 210, 205, 220, 195, 200, 260, 228, 270, 200, 210, 190, 220, 180, 205, 210, 220, 211, 200, 180, 190, 170, 230, 155, 185, 185, 200, 225, 225, 220, 160, 205, 235, 250, 210, 190, 160, 200, 205, 222, 195, 205, 220, 220, 170, 185, 195, 220, 230, 180, 220, 180, 180, 170, 210, 215, 200, 213, 180, 192, 235, 185, 235, 210, 222, 210, 230, 220, 180, 190, 200, 210, 194, 180, 190, 240, 200, 198, 200, 195, 210, 220, 190, 210, 225, 180, 185, 170, 185, 185, 180, 178, 175, 200, 204, 211, 190, 210, 190, 190, 185, 290, 175, 185, 200, 220, 170, 220, 190, 220, 205, 200, 250, 225, 215, 210, 215, 195, 200, 194, 220, 180, 180, 170, 195, 180, 170, 206, 205, 200, 225, 201, 225, 233, 180, 225, 180, 220, 180, 237, 215, 190, 235, 190, 180, 165, 195, 200, 190, 190, 185, 185, 205, 190, 205, 206, 220, 208, 170, 195, 210, 190, 211, 230, 170, 185, 185, 241, 225, 210, 175, 230, 200, 215, 198, 226, 278, 215, 230, 240, 184, 219, 170, 218, 190, 225, 220, 176, 190, 197, 204, 167, 180, 195, 220, 215, 185, 190, 205, 205, 200, 210, 215, 200, 205, 211, 190, 208, 200, 210, 232, 230, 210, 220, 210, 202, 212, 225, 170, 190, 200, 237, 220, 170, 193, 190, 150, 220, 200, 190, 185, 185, 200, 172, 220, 225, 190, 195, 219, 190, 197, 200, 195, 210, 177, 220, 235, 180, 195, 195, 190, 230, 190, 200, 190, 190, 200, 200, 184, 200, 180, 219, 187, 200, 220, 205, 190, 170, 160, 215, 175, 205, 200, 214, 200, 190, 180, 205, 220, 190, 215, 235, 191, 200, 181, 200, 210, 240, 185, 165, 190, 185, 175, 155, 210, 170, 175, 220, 210, 205, 200, 205, 195, 240, 150, 200, 215, 202, 200, 190, 205, 190, 160, 215, 185, 200, 190, 210, 185, 220, 190, 202, 205, 220, 175, 160, 190, 200, 229, 206, 220, 180, 195, 175, 188, 230, 190, 200, 190, 219, 235, 180, 180, 180, 200, 234, 185, 220, 223, 200, 210, 200, 210, 190, 177, 227, 180, 195, 199, 175, 185, 240, 210, 180, 194, 225, 180, 205, 193, 230, 230, 220, 200, 249, 190, 208, 245, 250, 160, 192, 220, 170, 197, 155, 190, 200, 220, 210, 228, 190, 160, 184, 180, 180, 200, 176, 160, 222, 211, 195, 200, 175, 206, 240, 185, 260, 185, 221, 205, 200, 170, 201, 205, 185, 205, 245, 220, 210, 220, 185, 175, 170, 180, 200, 210, 175, 220, 206, 180, 210, 195, 200, 200, 164, 180, 220, 195, 205, 170, 240, 210, 195, 200, 205, 192, 190, 170, 240, 200, 205, 175, 250, 220, 224, 210, 195, 180, 245, 175, 180, 215, 175, 180, 195, 230, 230, 205, 215, 195, 180, 205, 180, 190, 180, 190, 190, 220, 210, 255, 190, 230, 200, 205, 210, 225, 215, 220, 205, 200, 220, 197, 225, 187, 245, 185, 185, 175, 200, 180, 188, 225, 200, 210, 245, 213, 231, 165, 228, 210, 250, 191, 190, 200, 215, 254, 232, 180, 215, 220, 180, 200, 170, 195, 210, 200, 220, 165, 180, 200, 200, 170, 224, 220, 180, 198, 240, 239, 185, 210, 220, 200, 195, 220, 230, 170, 220, 230, 165, 205, 192, 210, 205, 200, 210, 185, 195, 202, 205, 195, 180, 200, 185, 240, 185, 220, 205, 205, 180, 201, 190, 208, 240, 180, 230, 195, 215, 190, 195, 215, 215, 220, 220, 230, 195, 190, 195, 209, 204, 170, 185, 205, 175, 210, 190, 180, 180, 160, 235, 200, 210, 180, 190, 197, 203, 205, 170, 200, 250, 200, 220, 200, 190, 170, 190, 220, 215, 206, 215, 185, 235, 188, 230, 195, 168, 190, 160, 200, 200, 189, 180, 190, 200, 220, 187, 240, 190, 180, 185, 210, 220, 219, 190, 193, 175, 180, 215, 210, 200, 190, 185, 220, 170, 195, 205, 195, 210, 190, 190, 180, 220, 190, 186, 185, 190, 180, 190, 170, 210, 240, 220, 180, 210, 210, 195, 160, 180, 205, 200, 185, 245, 190, 210, 200, 200, 222, 215, 240, 170, 220, 156, 190, 202, 221, 200, 190, 210, 190, 200, 165, 190, 185, 230, 208, 209, 175, 180, 200, 205, 200, 250, 210, 230, 244, 202, 240, 200, 215, 177, 210, 170, 215, 217, 198, 200, 220, 170, 200, 230, 231, 183, 192, 167, 190, 180, 180, 215, 160, 205, 223, 175, 170, 190, 240, 175, 230, 223, 196, 167, 195, 190, 250, 190, 190, 190, 170, 160, 150, 225, 220, 209, 210, 176, 260, 195, 190, 184, 180, 195, 195, 219, 225, 212, 202, 185, 200, 209, 200, 195, 228, 210, 190, 212, 190, 218, 220, 190, 235, 210, 200, 188, 210, 235, 188, 215, 216, 220, 180, 185, 200, 210, 220, 185, 231, 210, 195, 200, 205, 200, 190, 250, 185, 180, 170, 180, 208, 235, 215, 244, 220, 185, 230, 190, 200, 180, 190, 196, 180, 230, 224, 160, 178, 205, 185, 210, 180, 190, 200, 257, 190, 220, 165, 205, 200, 208, 185, 215, 170, 235, 210, 170, 180, 170, 190, 150, 230, 203, 260, 246, 186, 210, 198, 210, 215, 180, 200, 245, 200, 192, 192, 200, 192, 205, 190, 186, 170, 197, 219, 200, 220, 207, 225, 207, 212, 225, 170, 190, 210, 230, 210, 200, 238, 234, 222, 200, 190, 170, 220, 223, 210, 215, 196, 175, 175, 189, 205, 210, 180, 180, 197, 220, 228, 190, 204, 165, 216, 220, 208, 210, 215, 195, 200, 215, 229, 240, 207, 205, 208, 185, 190, 170, 208, 225, 190, 225, 185, 180, 165, 240, 220, 212, 163, 215, 175, 205, 210, 205, 208, 215, 180, 200, 230, 211, 230, 190, 220, 180, 205, 190, 180, 205, 190, 195]"
   ]
  },
  {
   "cell_type": "code",
   "execution_count": 205,
   "id": "0d5cafb6-ef84-4eab-b721-a16c7010f260",
   "metadata": {},
   "outputs": [],
   "source": [
    "#converting the list to arr\n",
    "weights_arr = np.array(weights_lb)"
   ]
  },
  {
   "cell_type": "code",
   "execution_count": 206,
   "id": "c1a150ba-87c1-4fcd-ab29-6dec1c3362e4",
   "metadata": {},
   "outputs": [
    {
     "data": {
      "text/plain": [
       "list"
      ]
     },
     "execution_count": 206,
     "metadata": {},
     "output_type": "execute_result"
    }
   ],
   "source": [
    "type(weights_lb)"
   ]
  },
  {
   "cell_type": "code",
   "execution_count": 207,
   "id": "f55da932-f740-463d-aa6a-753baac1006b",
   "metadata": {},
   "outputs": [
    {
     "data": {
      "text/plain": [
       "numpy.ndarray"
      ]
     },
     "execution_count": 207,
     "metadata": {},
     "output_type": "execute_result"
    }
   ],
   "source": [
    "type(weights_arr)"
   ]
  },
  {
   "cell_type": "code",
   "execution_count": 208,
   "id": "a35a291d-8951-4a9b-b142-db540a37b995",
   "metadata": {},
   "outputs": [],
   "source": [
    "# to convert from lbs to kg \n",
    "weights_kg = weights_arr*0.453"
   ]
  },
  {
   "cell_type": "markdown",
   "id": "d17717bd-e25b-46e1-9ec4-c3d88bd36f3b",
   "metadata": {},
   "source": [
    "### Calculating BMI \n",
    "BMI = weight(kg) / height(m)**2\n"
   ]
  },
  {
   "cell_type": "code",
   "execution_count": 209,
   "id": "489e6f02-3d67-412a-b493-14ddaa317085",
   "metadata": {},
   "outputs": [],
   "source": [
    "BMI_arr = weights_kg/heights_mtrs **2 # PEDMAS"
   ]
  },
  {
   "cell_type": "code",
   "execution_count": 210,
   "id": "2353e1df-b70e-4527-9526-6d4ca31d6512",
   "metadata": {},
   "outputs": [
    {
     "name": "stdout",
     "output_type": "stream",
     "text": [
      "[23.08021417 27.56803359 28.44363328 28.44363328 24.77096341 25.95644763\n",
      " 30.82328156 27.85762366 28.08119363 25.07186129]\n"
     ]
    }
   ],
   "source": [
    "print(BMI_arr[:10])"
   ]
  },
  {
   "cell_type": "code",
   "execution_count": 211,
   "id": "5bc163e7-53b7-4897-90eb-11035c267d96",
   "metadata": {},
   "outputs": [
    {
     "name": "stdout",
     "output_type": "stream",
     "text": [
      "BMI Records for first 5 members :  [23.08021417 27.56803359 28.44363328 28.44363328 24.77096341]\n",
      "BMI Records for the last 5 members :  [25.0344843  23.08021417 25.58951785 23.7171141  25.69328652]\n"
     ]
    }
   ],
   "source": [
    "print(\"BMI Records for first 5 members : \",BMI_arr[0:5])\n",
    "print(\"BMI Records for the last 5 members : \",BMI_arr[-5:])"
   ]
  },
  {
   "cell_type": "code",
   "execution_count": 212,
   "id": "dd94840b-1688-434d-933f-353c7c66c539",
   "metadata": {},
   "outputs": [
    {
     "name": "stdout",
     "output_type": "stream",
     "text": [
      "[ True  True  True ...  True  True  True]\n",
      "Members who have BMI > 21 :  1004\n"
     ]
    }
   ],
   "source": [
    "# Conditional Subsetting\n",
    "\n",
    "# Count the Number of participants that have BMI > 21\n",
    "print(BMI_arr > 21) # returns a list of true / false and then we are using that as an index\n",
    "print(\"Members who have BMI > 21 : \",len(BMI_arr[BMI_arr>21]))"
   ]
  },
  {
   "cell_type": "code",
   "execution_count": 213,
   "id": "2f723317-55fa-49c8-9935-c9d05a49b7b8",
   "metadata": {},
   "outputs": [
    {
     "name": "stdout",
     "output_type": "stream",
     "text": [
      "Maximum BMI :  35.21592691333531   ----------   35.21592691333531\n",
      "Minimum BMI :  19.472998945997894   ----------   19.472998945997894\n",
      "Average BMI :  26.022837884005778   ----------   26.022837884005778\n"
     ]
    }
   ],
   "source": [
    "print(\"Maximum BMI : \",max(BMI_arr),\"  ----------  \",np.max(BMI_arr)) \n",
    "print(\"Minimum BMI : \",min(BMI_arr),\"  ----------  \",np.min(BMI_arr)) \n",
    "print(\"Average BMI : \",BMI_arr.mean(),\"  ----------  \",np.mean(BMI_arr)) "
   ]
  },
  {
   "cell_type": "code",
   "execution_count": 214,
   "id": "098d3ea6-ca79-4218-b929-497834355805",
   "metadata": {},
   "outputs": [
    {
     "name": "stdout",
     "output_type": "stream",
     "text": [
      "People having BMI > 25 and < 30 : 636\n"
     ]
    }
   ],
   "source": [
    "# multiple condition\n",
    "print(\"People having BMI > 25 and < 30 :\",len(BMI_arr[(BMI_arr > 25) & (BMI_arr < 30)])) # conditions are written in ()"
   ]
  },
  {
   "cell_type": "markdown",
   "id": "17d39f0c-5370-43f9-8299-80d596f50cf5",
   "metadata": {},
   "source": [
    "## Multidimensional arrays\n",
    "Multidimesnional arrays are basically the arrays within an array , so a 2d array is an array with each elements as the 1 d array"
   ]
  },
  {
   "cell_type": "markdown",
   "id": "3326822b-6a59-4089-9a2f-22449b56b009",
   "metadata": {},
   "source": [
    "<h2 style = \"color : Brown\"> Case Study - Cricket Tournament </h2>\n",
    "\n",
    "<h4 style = \"color : Sky blue\"> Example - 1</h4>  \n",
    "\n",
    "##### Players list contain the height(inches) and weight(lbs) data for all the players"
   ]
  },
  {
   "cell_type": "code",
   "execution_count": 215,
   "id": "fcd4947a-7188-45d3-acde-710cebef51a7",
   "metadata": {},
   "outputs": [],
   "source": [
    "# list of height and weight of the players.\n",
    "players = [(74, 180), (74, 215), (72, 210), (72, 210), (73, 188), (69, 176), (69, 209), (71, 200), (76, 231), (71, 180), (73, 188), (73, 180), (74, 185), (74, 160), (69, 180), (70, 185), (73, 189), (75, 185), (78, 219), (79, 230), (76, 205), (74, 230), (76, 195), (72, 180), (71, 192), (75, 225), (77, 203), (74, 195), (73, 182), (74, 188), (78, 200), (73, 180), (75, 200), (73, 200), (75, 245), (75, 240), (74, 215), (69, 185), (71, 175), (74, 199), (73, 200), (73, 215), (76, 200), (74, 205), (74, 206), (70, 186), (72, 188), (77, 220), (74, 210), (70, 195), (73, 200), (75, 200), (76, 212), (76, 224), (78, 210), (74, 205), (74, 220), (76, 195), (77, 200), (81, 260), (78, 228), (75, 270), (77, 200), (75, 210), (76, 190), (74, 220), (72, 180), (72, 205), (75, 210), (73, 220), (73, 211), (73, 200), (70, 180), (70, 190), (70, 170), (76, 230), (68, 155), (71, 185), (72, 185), (75, 200), (75, 225), (75, 225), (75, 220), (68, 160), (74, 205), (78, 235), (71, 250), (73, 210), (76, 190), (74, 160), (74, 200), (79, 205), (75, 222), (73, 195), (76, 205), (74, 220), (74, 220), (73, 170), (72, 185), (74, 195), (73, 220), (74, 230), (72, 180), (73, 220), (69, 180), (72, 180), (73, 170), (75, 210), (75, 215), (73, 200), (72, 213), (72, 180), (76, 192), (74, 235), (72, 185), (77, 235), (74, 210), (77, 222), (75, 210), (76, 230), (80, 220), (74, 180), (74, 190), (75, 200), (78, 210), (73, 194), (73, 180), (74, 190), (75, 240), (76, 200), (71, 198), (73, 200), (74, 195), (76, 210), (76, 220), (74, 190), (73, 210), (74, 225), (70, 180), (72, 185), (73, 170), (73, 185), (73, 185), (73, 180), (71, 178), (74, 175), (74, 200), (72, 204), (74, 211), (71, 190), (74, 210), (73, 190), (75, 190), (75, 185), (79, 290), (73, 175), (75, 185), (76, 200), (74, 220), (76, 170), (78, 220), (74, 190), (76, 220), (72, 205), (74, 200), (76, 250), (74, 225), (75, 215), (78, 210), (75, 215), (72, 195), (74, 200), (72, 194), (74, 220), (70, 180), (71, 180), (70, 170), (75, 195), (71, 180), (71, 170), (73, 206), (72, 205), (71, 200), (73, 225), (72, 201), (75, 225), (74, 233), (74, 180), (75, 225), (73, 180), (77, 220), (73, 180), (76, 237), (75, 215), (74, 190), (76, 235), (75, 190), (73, 180), (71, 165), (76, 195), (75, 200), (72, 190), (71, 190), (77, 185), (73, 185), (74, 205), (71, 190), (72, 205), (74, 206), (75, 220), (73, 208), (72, 170), (75, 195), (75, 210), (74, 190), (72, 211), (74, 230), (71, 170), (70, 185), (74, 185), (77, 241), (77, 225), (75, 210), (75, 175), (78, 230), (75, 200), (76, 215), (73, 198), (75, 226), (75, 278), (79, 215), (77, 230), (76, 240), (71, 184), (75, 219), (74, 170), (69, 218), (71, 190), (76, 225), (72, 220), (72, 176), (70, 190), (72, 197), (73, 204), (71, 167), (72, 180), (71, 195), (73, 220), (72, 215), (73, 185), (74, 190), (74, 205), (72, 205), (75, 200), (74, 210), (74, 215), (77, 200), (75, 205), (73, 211), (72, 190), (71, 208), (74, 200), (77, 210), (75, 232), (75, 230), (75, 210), (78, 220), (78, 210), (74, 202), (76, 212), (78, 225), (76, 170), (70, 190), (72, 200), (80, 237), (74, 220), (74, 170), (71, 193), (70, 190), (72, 150), (71, 220), (74, 200), (71, 190), (72, 185), (71, 185), (74, 200), (69, 172), (76, 220), (75, 225), (75, 190), (76, 195), (73, 219), (76, 190), (73, 197), (77, 200), (73, 195), (72, 210), (72, 177), (77, 220), (77, 235), (71, 180), (74, 195), (74, 195), (73, 190), (78, 230), (75, 190), (73, 200), (70, 190), (74, 190), (72, 200), (73, 200), (73, 184), (75, 200), (75, 180), (74, 219), (76, 187), (73, 200), (74, 220), (75, 205), (75, 190), (72, 170), (73, 160), (73, 215), (72, 175), (74, 205), (78, 200), (76, 214), (73, 200), (74, 190), (75, 180), (70, 205), (75, 220), (71, 190), (72, 215), (78, 235), (75, 191), (73, 200), (73, 181), (71, 200), (75, 210), (77, 240), (72, 185), (69, 165), (73, 190), (74, 185), (72, 175), (70, 155), (75, 210), (70, 170), (72, 175), (72, 220), (74, 210), (73, 205), (74, 200), (76, 205), (75, 195), (80, 240), (72, 150), (75, 200), (73, 215), (74, 202), (74, 200), (73, 190), (75, 205), (75, 190), (71, 160), (73, 215), (75, 185), (74, 200), (74, 190), (72, 210), (74, 185), (74, 220), (74, 190), (73, 202), (76, 205), (75, 220), (72, 175), (73, 160), (73, 190), (73, 200), (72, 229), (72, 206), (72, 220), (72, 180), (71, 195), (75, 175), (75, 188), (74, 230), (73, 190), (75, 200), (79, 190), (74, 219), (76, 235), (73, 180), (74, 180), (74, 180), (72, 200), (74, 234), (74, 185), (75, 220), (78, 223), (74, 200), (74, 210), (74, 200), (77, 210), (70, 190), (73, 177), (74, 227), (73, 180), (71, 195), (75, 199), (71, 175), (72, 185), (77, 240), (74, 210), (70, 180), (77, 194), (73, 225), (72, 180), (76, 205), (71, 193), (76, 230), (78, 230), (75, 220), (73, 200), (78, 249), (74, 190), (79, 208), (75, 245), (76, 250), (72, 160), (75, 192), (75, 220), (70, 170), (72, 197), (70, 155), (74, 190), (71, 200), (76, 220), (73, 210), (76, 228), (71, 190), (69, 160), (72, 184), (72, 180), (69, 180), (73, 200), (69, 176), (73, 160), (74, 222), (74, 211), (72, 195), (71, 200), (72, 175), (72, 206), (76, 240), (76, 185), (76, 260), (74, 185), (76, 221), (75, 205), (71, 200), (72, 170), (71, 201), (73, 205), (75, 185), (76, 205), (75, 245), (71, 220), (75, 210), (74, 220), (72, 185), (73, 175), (73, 170), (73, 180), (73, 200), (76, 210), (72, 175), (76, 220), (73, 206), (73, 180), (73, 210), (75, 195), (75, 200), (77, 200), (73, 164), (72, 180), (75, 220), (70, 195), (74, 205), (72, 170), (80, 240), (71, 210), (71, 195), (74, 200), (74, 205), (73, 192), (75, 190), (76, 170), (73, 240), (77, 200), (72, 205), (73, 175), (77, 250), (76, 220), (71, 224), (75, 210), (73, 195), (74, 180), (77, 245), (71, 175), (72, 180), (73, 215), (69, 175), (73, 180), (70, 195), (74, 230), (76, 230), (73, 205), (73, 215), (75, 195), (73, 180), (79, 205), (74, 180), (73, 190), (74, 180), (77, 190), (75, 190), (74, 220), (73, 210), (77, 255), (73, 190), (77, 230), (74, 200), (74, 205), (73, 210), (77, 225), (74, 215), (77, 220), (75, 205), (77, 200), (75, 220), (71, 197), (74, 225), (70, 187), (79, 245), (72, 185), (72, 185), (70, 175), (74, 200), (74, 180), (72, 188), (73, 225), (72, 200), (74, 210), (74, 245), (76, 213), (82, 231), (74, 165), (74, 228), (70, 210), (73, 250), (73, 191), (74, 190), (77, 200), (72, 215), (76, 254), (73, 232), (73, 180), (72, 215), (74, 220), (74, 180), (71, 200), (72, 170), (75, 195), (74, 210), (74, 200), (77, 220), (70, 165), (71, 180), (73, 200), (76, 200), (71, 170), (75, 224), (74, 220), (72, 180), (76, 198), (79, 240), (76, 239), (73, 185), (76, 210), (78, 220), (75, 200), (76, 195), (72, 220), (72, 230), (73, 170), (73, 220), (75, 230), (71, 165), (76, 205), (70, 192), (75, 210), (74, 205), (75, 200), (73, 210), (71, 185), (71, 195), (72, 202), (73, 205), (73, 195), (72, 180), (69, 200), (73, 185), (78, 240), (71, 185), (73, 220), (75, 205), (76, 205), (70, 180), (74, 201), (77, 190), (75, 208), (79, 240), (72, 180), (77, 230), (73, 195), (75, 215), (75, 190), (75, 195), (73, 215), (73, 215), (76, 220), (77, 220), (75, 230), (70, 195), (71, 190), (71, 195), (75, 209), (74, 204), (69, 170), (70, 185), (75, 205), (72, 175), (75, 210), (73, 190), (72, 180), (72, 180), (72, 160), (76, 235), (75, 200), (74, 210), (69, 180), (73, 190), (72, 197), (72, 203), (75, 205), (77, 170), (76, 200), (80, 250), (77, 200), (76, 220), (79, 200), (71, 190), (75, 170), (73, 190), (76, 220), (77, 215), (73, 206), (76, 215), (70, 185), (75, 235), (73, 188), (75, 230), (70, 195), (69, 168), (71, 190), (72, 160), (72, 200), (73, 200), (70, 189), (70, 180), (73, 190), (76, 200), (75, 220), (72, 187), (73, 240), (79, 190), (71, 180), (72, 185), (74, 210), (74, 220), (74, 219), (72, 190), (76, 193), (76, 175), (72, 180), (72, 215), (71, 210), (72, 200), (72, 190), (70, 185), (77, 220), (74, 170), (72, 195), (76, 205), (71, 195), (76, 210), (71, 190), (73, 190), (70, 180), (73, 220), (73, 190), (72, 186), (71, 185), (71, 190), (71, 180), (72, 190), (72, 170), (74, 210), (74, 240), (74, 220), (71, 180), (72, 210), (75, 210), (72, 195), (71, 160), (72, 180), (72, 205), (72, 200), (72, 185), (74, 245), (74, 190), (77, 210), (75, 200), (73, 200), (75, 222), (73, 215), (76, 240), (72, 170), (77, 220), (75, 156), (72, 190), (71, 202), (71, 221), (75, 200), (72, 190), (73, 210), (73, 190), (71, 200), (70, 165), (75, 190), (71, 185), (76, 230), (73, 208), (68, 209), (71, 175), (72, 180), (74, 200), (77, 205), (72, 200), (76, 250), (78, 210), (81, 230), (72, 244), (73, 202), (76, 240), (72, 200), (72, 215), (74, 177), (76, 210), (73, 170), (76, 215), (75, 217), (70, 198), (71, 200), (74, 220), (72, 170), (73, 200), (76, 230), (76, 231), (73, 183), (71, 192), (68, 167), (71, 190), (71, 180), (74, 180), (77, 215), (69, 160), (72, 205), (76, 223), (75, 175), (76, 170), (75, 190), (76, 240), (72, 175), (74, 230), (76, 223), (74, 196), (72, 167), (75, 195), (78, 190), (77, 250), (70, 190), (72, 190), (79, 190), (74, 170), (71, 160), (68, 150), (77, 225), (75, 220), (71, 209), (72, 210), (70, 176), (72, 260), (72, 195), (73, 190), (72, 184), (74, 180), (72, 195), (72, 195), (75, 219), (72, 225), (73, 212), (74, 202), (72, 185), (78, 200), (75, 209), (72, 200), (74, 195), (75, 228), (75, 210), (76, 190), (74, 212), (74, 190), (73, 218), (74, 220), (71, 190), (74, 235), (75, 210), (76, 200), (74, 188), (76, 210), (76, 235), (73, 188), (75, 215), (75, 216), (74, 220), (68, 180), (72, 185), (75, 200), (71, 210), (70, 220), (72, 185), (73, 231), (72, 210), (75, 195), (74, 200), (70, 205), (76, 200), (71, 190), (82, 250), (72, 185), (73, 180), (74, 170), (71, 180), (75, 208), (77, 235), (72, 215), (74, 244), (72, 220), (73, 185), (78, 230), (77, 190), (73, 200), (73, 180), (73, 190), (73, 196), (73, 180), (76, 230), (75, 224), (70, 160), (73, 178), (72, 205), (73, 185), (75, 210), (74, 180), (73, 190), (73, 200), (76, 257), (73, 190), (75, 220), (70, 165), (77, 205), (72, 200), (77, 208), (74, 185), (75, 215), (75, 170), (75, 235), (75, 210), (72, 170), (74, 180), (71, 170), (76, 190), (71, 150), (75, 230), (76, 203), (83, 260), (75, 246), (74, 186), (76, 210), (72, 198), (72, 210), (75, 215), (75, 180), (72, 200), (77, 245), (73, 200), (72, 192), (70, 192), (74, 200), (72, 192), (74, 205), (72, 190), (71, 186), (70, 170), (71, 197), (76, 219), (74, 200), (76, 220), (74, 207), (74, 225), (74, 207), (75, 212), (75, 225), (71, 170), (71, 190), (74, 210), (77, 230), (71, 210), (74, 200), (75, 238), (77, 234), (76, 222), (74, 200), (76, 190), (72, 170), (71, 220), (72, 223), (75, 210), (73, 215), (68, 196), (72, 175), (69, 175), (73, 189), (73, 205), (75, 210), (70, 180), (70, 180), (74, 197), (75, 220), (74, 228), (74, 190), (73, 204), (74, 165), (75, 216), (77, 220), (73, 208), (74, 210), (76, 215), (74, 195), (75, 200), (73, 215), (76, 229), (78, 240), (75, 207), (73, 205), (77, 208), (74, 185), (72, 190), (74, 170), (72, 208), (71, 225), (73, 190), (75, 225), (73, 185), (67, 180), (67, 165), (76, 240), (74, 220), (73, 212), (70, 163), (75, 215), (70, 175), (72, 205), (77, 210), (79, 205), (78, 208), (74, 215), (75, 180), (75, 200), (78, 230), (76, 211), (75, 230), (69, 190), (75, 220), (72, 180), (75, 205), (73, 190), (74, 180), (75, 205), (75, 190), (73, 195)]"
   ]
  },
  {
   "cell_type": "code",
   "execution_count": 216,
   "id": "ba1ece23-cbba-45bd-813c-99d8bd4870ad",
   "metadata": {},
   "outputs": [],
   "source": [
    "# converting to array\n",
    "players_arr = np.array(players)"
   ]
  },
  {
   "cell_type": "code",
   "execution_count": 217,
   "id": "5975dc77-56a6-4ce4-b757-431771a7fa47",
   "metadata": {},
   "outputs": [
    {
     "data": {
      "text/plain": [
       "2"
      ]
     },
     "execution_count": 217,
     "metadata": {},
     "output_type": "execute_result"
    }
   ],
   "source": [
    "players_arr.ndim"
   ]
  },
  {
   "cell_type": "code",
   "execution_count": 218,
   "id": "8c6c3d5d-9c5d-40c6-b62b-4efb7d5e0746",
   "metadata": {},
   "outputs": [
    {
     "data": {
      "text/plain": [
       "(1015, 2)"
      ]
     },
     "execution_count": 218,
     "metadata": {},
     "output_type": "execute_result"
    }
   ],
   "source": [
    "players_arr.shape"
   ]
  },
  {
   "cell_type": "code",
   "execution_count": 219,
   "id": "15415537-0697-4e26-9b3c-3a46b00da9ff",
   "metadata": {},
   "outputs": [],
   "source": [
    "# to convert the height to meters and weights to kgs\n",
    "players_converted = players_arr * [0.0254,0.453]"
   ]
  },
  {
   "cell_type": "code",
   "execution_count": 220,
   "id": "1ab190ff-0e17-4320-9da7-bee1ce3060e8",
   "metadata": {},
   "outputs": [
    {
     "name": "stdout",
     "output_type": "stream",
     "text": [
      "Data for 125th player : [ 1.9812 95.13  ]\n",
      "Height of 125th player : 1.9811999999999999\n",
      "Weight of the 125th Player :  95.13000000000001\n"
     ]
    }
   ],
   "source": [
    "# fetching the height of the 125th player\n",
    "print(\"Data for 125th player :\",players_converted[124])\n",
    "print(\"Height of 125th player :\",players_converted[124][0])\n",
    "print(\"Weight of the 125th Player : \",players_converted[124][1])"
   ]
  },
  {
   "cell_type": "markdown",
   "id": "85252418-9f31-4793-98ee-161ef6c43ed7",
   "metadata": {},
   "source": [
    "### Conditional Subsetting"
   ]
  },
  {
   "cell_type": "code",
   "execution_count": 221,
   "id": "93ea34f8-bbc5-4726-a7ef-19b5900970dd",
   "metadata": {},
   "outputs": [
    {
     "name": "stdout",
     "output_type": "stream",
     "text": [
      "[ True  True  True ...  True  True  True]\n",
      "Tall players Count :  936\n"
     ]
    }
   ],
   "source": [
    "# info of players whose heights > 1.8m\n",
    "print(players_converted[:,0]>1.8)\n",
    "print(\"Tall players Count : \",len(players_converted[players_converted[:,0]>1.8]))"
   ]
  },
  {
   "cell_type": "markdown",
   "id": "5c97993e-79f7-4969-b565-44ba7ef92ea0",
   "metadata": {},
   "source": [
    "### Skills Array - holds the player key skills."
   ]
  },
  {
   "cell_type": "code",
   "execution_count": 222,
   "id": "9c9f98f0-614f-4ec5-a1ae-b38b44cdaab4",
   "metadata": {},
   "outputs": [
    {
     "data": {
      "text/plain": [
       "array(['Keeper', 'Batsman', 'Bowler', ..., 'Batsman', 'Bowler',\n",
       "       'Keeper-Batsman'], dtype='<U14')"
      ]
     },
     "execution_count": 222,
     "metadata": {},
     "output_type": "execute_result"
    }
   ],
   "source": [
    "skills = np.array(['Keeper', 'Batsman', 'Bowler', 'Keeper-Batsman', 'Batsman', 'Keeper-Batsman', 'Batsman', 'Batsman', 'Batsman', 'Bowler', 'Batsman', 'Batsman', 'Bowler', 'Bowler', 'Bowler', 'Batsman', 'Keeper-Batsman', 'Bowler', 'Keeper-Batsman', 'Batsman', 'Keeper', 'Keeper-Batsman', 'Keeper-Batsman', 'Batsman', 'Batsman', 'Batsman', 'Batsman', 'Keeper-Batsman', 'Batsman', 'Keeper', 'Keeper-Batsman', 'Keeper', 'Keeper-Batsman', 'Keeper-Batsman', 'Batsman', 'Bowler', 'Batsman', 'Keeper-Batsman', 'Batsman', 'Keeper', 'Batsman', 'Keeper', 'Bowler', 'Keeper-Batsman', 'Keeper', 'Bowler', 'Keeper', 'Keeper', 'Keeper', 'Keeper', 'Bowler', 'Keeper-Batsman', 'Bowler', 'Keeper-Batsman', 'Keeper-Batsman', 'Batsman', 'Keeper-Batsman', 'Batsman', 'Keeper-Batsman', 'Keeper-Batsman', 'Keeper', 'Keeper', 'Keeper-Batsman', 'Batsman', 'Batsman', 'Keeper', 'Batsman', 'Keeper-Batsman', 'Batsman', 'Batsman', 'Keeper-Batsman', 'Keeper-Batsman', 'Batsman', 'Batsman', 'Keeper-Batsman', 'Bowler', 'Bowler', 'Batsman', 'Batsman', 'Batsman', 'Bowler', 'Keeper-Batsman', 'Keeper-Batsman', 'Bowler', 'Bowler', 'Batsman', 'Batsman', 'Batsman', 'Keeper-Batsman', 'Keeper-Batsman', 'Bowler', 'Bowler', 'Keeper-Batsman', 'Batsman', 'Batsman', 'Batsman', 'Keeper-Batsman', 'Batsman', 'Batsman', 'Keeper-Batsman', 'Batsman', 'Bowler', 'Batsman', 'Batsman', 'Keeper', 'Batsman', 'Keeper-Batsman', 'Batsman', 'Batsman', 'Keeper-Batsman', 'Batsman', 'Batsman', 'Bowler', 'Keeper', 'Keeper-Batsman', 'Batsman', 'Keeper', 'Batsman', 'Batsman', 'Batsman', 'Batsman', 'Keeper-Batsman', 'Keeper-Batsman', 'Batsman', 'Keeper-Batsman', 'Batsman', 'Keeper-Batsman', 'Batsman', 'Batsman', 'Bowler', 'Batsman', 'Keeper', 'Bowler', 'Batsman', 'Keeper-Batsman', 'Batsman', 'Keeper-Batsman', 'Keeper', 'Keeper-Batsman', 'Keeper-Batsman', 'Batsman', 'Bowler', 'Keeper', 'Batsman', 'Keeper-Batsman', 'Bowler', 'Keeper-Batsman', 'Bowler', 'Bowler', 'Batsman', 'Keeper-Batsman', 'Batsman', 'Bowler', 'Keeper', 'Keeper-Batsman', 'Batsman', 'Keeper', 'Bowler', 'Keeper-Batsman', 'Keeper-Batsman', 'Keeper-Batsman', 'Keeper', 'Keeper', 'Batsman', 'Keeper-Batsman', 'Keeper', 'Keeper-Batsman', 'Batsman', 'Keeper', 'Bowler', 'Keeper-Batsman', 'Keeper', 'Keeper', 'Keeper-Batsman', 'Batsman', 'Keeper', 'Keeper-Batsman', 'Keeper-Batsman', 'Keeper-Batsman', 'Batsman', 'Keeper-Batsman', 'Batsman', 'Keeper-Batsman', 'Keeper-Batsman', 'Bowler', 'Keeper-Batsman', 'Keeper-Batsman', 'Keeper-Batsman', 'Batsman', 'Batsman', 'Bowler', 'Keeper-Batsman', 'Batsman', 'Batsman', 'Keeper-Batsman', 'Batsman', 'Bowler', 'Bowler', 'Keeper-Batsman', 'Bowler', 'Keeper', 'Batsman', 'Bowler', 'Bowler', 'Keeper-Batsman', 'Keeper-Batsman', 'Bowler', 'Keeper-Batsman', 'Keeper', 'Keeper-Batsman', 'Batsman', 'Keeper-Batsman', 'Keeper-Batsman', 'Batsman', 'Batsman', 'Keeper', 'Keeper-Batsman', 'Batsman', 'Keeper', 'Keeper', 'Keeper-Batsman', 'Batsman', 'Keeper-Batsman', 'Keeper-Batsman', 'Batsman', 'Bowler', 'Keeper-Batsman', 'Keeper-Batsman', 'Batsman', 'Bowler', 'Bowler', 'Bowler', 'Bowler', 'Bowler', 'Batsman', 'Keeper-Batsman', 'Keeper-Batsman', 'Bowler', 'Batsman', 'Keeper', 'Batsman', 'Keeper', 'Bowler', 'Bowler', 'Keeper', 'Batsman', 'Keeper-Batsman', 'Batsman', 'Keeper-Batsman', 'Keeper-Batsman', 'Batsman', 'Batsman', 'Bowler', 'Bowler', 'Keeper-Batsman', 'Keeper-Batsman', 'Keeper-Batsman', 'Batsman', 'Batsman', 'Keeper', 'Keeper-Batsman', 'Batsman', 'Batsman', 'Keeper-Batsman', 'Keeper-Batsman', 'Keeper-Batsman', 'Batsman', 'Batsman', 'Batsman', 'Keeper-Batsman', 'Batsman', 'Bowler', 'Bowler', 'Keeper-Batsman', 'Keeper-Batsman', 'Batsman', 'Keeper', 'Bowler', 'Keeper-Batsman', 'Keeper-Batsman', 'Keeper-Batsman', 'Keeper', 'Keeper-Batsman', 'Batsman', 'Keeper-Batsman', 'Bowler', 'Bowler', 'Keeper', 'Bowler', 'Keeper-Batsman', 'Batsman', 'Batsman', 'Keeper', 'Bowler', 'Bowler', 'Batsman', 'Keeper-Batsman', 'Bowler', 'Batsman', 'Batsman', 'Batsman', 'Keeper-Batsman', 'Keeper-Batsman', 'Keeper-Batsman', 'Batsman', 'Keeper-Batsman', 'Bowler', 'Batsman', 'Batsman', 'Batsman', 'Bowler', 'Batsman', 'Batsman', 'Keeper-Batsman', 'Batsman', 'Keeper-Batsman', 'Batsman', 'Batsman', 'Bowler', 'Keeper-Batsman', 'Keeper-Batsman', 'Batsman', 'Bowler', 'Keeper-Batsman', 'Keeper-Batsman', 'Batsman', 'Batsman', 'Batsman', 'Keeper-Batsman', 'Batsman', 'Keeper-Batsman', 'Bowler', 'Keeper-Batsman', 'Keeper-Batsman', 'Batsman', 'Keeper-Batsman', 'Bowler', 'Keeper-Batsman', 'Keeper-Batsman', 'Keeper', 'Batsman', 'Batsman', 'Batsman', 'Keeper', 'Batsman', 'Bowler', 'Keeper-Batsman', 'Keeper-Batsman', 'Batsman', 'Bowler', 'Keeper', 'Batsman', 'Keeper-Batsman', 'Bowler', 'Batsman', 'Bowler', 'Bowler', 'Bowler', 'Batsman', 'Keeper', 'Bowler', 'Bowler', 'Batsman', 'Bowler', 'Keeper-Batsman', 'Keeper-Batsman', 'Keeper-Batsman', 'Bowler', 'Keeper', 'Keeper-Batsman', 'Keeper-Batsman', 'Keeper-Batsman', 'Keeper-Batsman', 'Keeper', 'Bowler', 'Keeper', 'Keeper-Batsman', 'Keeper-Batsman', 'Batsman', 'Keeper', 'Keeper-Batsman', 'Keeper-Batsman', 'Keeper-Batsman', 'Bowler', 'Keeper-Batsman', 'Keeper-Batsman', 'Keeper', 'Keeper-Batsman', 'Keeper-Batsman', 'Keeper-Batsman', 'Keeper', 'Keeper-Batsman', 'Keeper', 'Bowler', 'Batsman', 'Bowler', 'Batsman', 'Bowler', 'Keeper-Batsman', 'Keeper-Batsman', 'Keeper-Batsman', 'Keeper', 'Keeper', 'Keeper', 'Batsman', 'Bowler', 'Batsman', 'Keeper-Batsman', 'Batsman', 'Bowler', 'Keeper', 'Batsman', 'Keeper-Batsman', 'Batsman', 'Batsman', 'Keeper-Batsman', 'Bowler', 'Keeper', 'Batsman', 'Bowler', 'Keeper', 'Keeper', 'Batsman', 'Bowler', 'Bowler', 'Batsman', 'Keeper', 'Keeper', 'Keeper-Batsman', 'Batsman', 'Bowler', 'Keeper-Batsman', 'Bowler', 'Keeper-Batsman', 'Keeper-Batsman', 'Bowler', 'Keeper-Batsman', 'Batsman', 'Keeper-Batsman', 'Keeper-Batsman', 'Batsman', 'Keeper-Batsman', 'Bowler', 'Keeper', 'Keeper-Batsman', 'Keeper-Batsman', 'Keeper', 'Bowler', 'Keeper-Batsman', 'Keeper-Batsman', 'Keeper', 'Keeper-Batsman', 'Bowler', 'Batsman', 'Bowler', 'Bowler', 'Keeper', 'Keeper-Batsman', 'Bowler', 'Keeper-Batsman', 'Bowler', 'Keeper-Batsman', 'Keeper', 'Keeper-Batsman', 'Keeper-Batsman', 'Bowler', 'Bowler', 'Batsman', 'Bowler', 'Keeper', 'Batsman', 'Keeper-Batsman', 'Bowler', 'Keeper-Batsman', 'Batsman', 'Batsman', 'Keeper-Batsman', 'Batsman', 'Keeper', 'Keeper-Batsman', 'Batsman', 'Bowler', 'Bowler', 'Batsman', 'Batsman', 'Batsman', 'Keeper', 'Keeper', 'Keeper-Batsman', 'Bowler', 'Batsman', 'Keeper', 'Keeper-Batsman', 'Batsman', 'Keeper', 'Batsman', 'Batsman', 'Keeper', 'Batsman', 'Keeper-Batsman', 'Bowler', 'Keeper-Batsman', 'Batsman', 'Batsman', 'Bowler', 'Batsman', 'Keeper', 'Bowler', 'Keeper', 'Bowler', 'Batsman', 'Keeper', 'Keeper', 'Keeper-Batsman', 'Keeper-Batsman', 'Batsman', 'Batsman', 'Keeper-Batsman', 'Keeper', 'Bowler', 'Batsman', 'Keeper', 'Bowler', 'Keeper', 'Keeper-Batsman', 'Keeper-Batsman', 'Batsman', 'Batsman', 'Batsman', 'Keeper-Batsman', 'Batsman', 'Batsman', 'Keeper', 'Batsman', 'Keeper-Batsman', 'Batsman', 'Keeper-Batsman', 'Keeper', 'Batsman', 'Bowler', 'Keeper', 'Bowler', 'Batsman', 'Batsman', 'Bowler', 'Batsman', 'Batsman', 'Bowler', 'Bowler', 'Bowler', 'Batsman', 'Keeper', 'Keeper-Batsman', 'Keeper-Batsman', 'Batsman', 'Keeper-Batsman', 'Keeper', 'Keeper-Batsman', 'Batsman', 'Batsman', 'Batsman', 'Bowler', 'Keeper-Batsman', 'Bowler', 'Keeper-Batsman', 'Bowler', 'Batsman', 'Batsman', 'Keeper-Batsman', 'Batsman', 'Batsman', 'Keeper-Batsman', 'Keeper-Batsman', 'Keeper', 'Batsman', 'Bowler', 'Keeper', 'Bowler', 'Bowler', 'Batsman', 'Keeper-Batsman', 'Keeper', 'Keeper-Batsman', 'Batsman', 'Batsman', 'Keeper', 'Keeper', 'Keeper-Batsman', 'Keeper-Batsman', 'Batsman', 'Keeper-Batsman', 'Batsman', 'Batsman', 'Batsman', 'Batsman', 'Keeper', 'Batsman', 'Keeper-Batsman', 'Batsman', 'Keeper-Batsman', 'Keeper', 'Bowler', 'Batsman', 'Keeper-Batsman', 'Batsman', 'Bowler', 'Bowler', 'Keeper-Batsman', 'Keeper-Batsman', 'Keeper-Batsman', 'Batsman', 'Keeper', 'Keeper-Batsman', 'Bowler', 'Batsman', 'Keeper-Batsman', 'Bowler', 'Keeper', 'Batsman', 'Keeper-Batsman', 'Batsman', 'Keeper-Batsman', 'Bowler', 'Bowler', 'Batsman', 'Bowler', 'Keeper-Batsman', 'Keeper-Batsman', 'Batsman', 'Bowler', 'Batsman', 'Batsman', 'Bowler', 'Keeper-Batsman', 'Keeper', 'Bowler', 'Batsman', 'Keeper-Batsman', 'Batsman', 'Bowler', 'Keeper-Batsman', 'Keeper-Batsman', 'Keeper-Batsman', 'Keeper', 'Keeper-Batsman', 'Batsman', 'Keeper', 'Batsman', 'Batsman', 'Keeper', 'Batsman', 'Batsman', 'Keeper-Batsman', 'Batsman', 'Keeper-Batsman', 'Keeper-Batsman', 'Batsman', 'Keeper-Batsman', 'Bowler', 'Batsman', 'Keeper-Batsman', 'Keeper-Batsman', 'Keeper', 'Keeper-Batsman', 'Batsman', 'Batsman', 'Keeper', 'Keeper', 'Batsman', 'Keeper-Batsman', 'Keeper-Batsman', 'Bowler', 'Keeper', 'Keeper-Batsman', 'Keeper-Batsman', 'Keeper-Batsman', 'Keeper', 'Bowler', 'Bowler', 'Keeper-Batsman', 'Bowler', 'Keeper-Batsman', 'Batsman', 'Keeper-Batsman', 'Keeper-Batsman', 'Bowler', 'Batsman', 'Keeper', 'Keeper-Batsman', 'Batsman', 'Keeper-Batsman', 'Batsman', 'Bowler', 'Bowler', 'Keeper', 'Batsman', 'Keeper-Batsman', 'Bowler', 'Keeper-Batsman', 'Keeper-Batsman', 'Batsman', 'Bowler', 'Bowler', 'Keeper-Batsman', 'Batsman', 'Batsman', 'Keeper-Batsman', 'Bowler', 'Keeper-Batsman', 'Batsman', 'Bowler', 'Batsman', 'Keeper-Batsman', 'Keeper-Batsman', 'Keeper-Batsman', 'Bowler', 'Keeper', 'Keeper-Batsman', 'Keeper-Batsman', 'Batsman', 'Batsman', 'Bowler', 'Batsman', 'Bowler', 'Keeper-Batsman', 'Batsman', 'Bowler', 'Bowler', 'Keeper', 'Bowler', 'Keeper-Batsman', 'Bowler', 'Batsman', 'Bowler', 'Keeper-Batsman', 'Keeper-Batsman', 'Keeper-Batsman', 'Keeper', 'Bowler', 'Keeper-Batsman', 'Keeper-Batsman', 'Keeper-Batsman', 'Bowler', 'Bowler', 'Bowler', 'Batsman', 'Keeper', 'Keeper', 'Keeper-Batsman', 'Bowler', 'Keeper', 'Keeper-Batsman', 'Bowler', 'Batsman', 'Batsman', 'Keeper-Batsman', 'Keeper', 'Batsman', 'Bowler', 'Batsman', 'Keeper-Batsman', 'Batsman', 'Batsman', 'Batsman', 'Keeper-Batsman', 'Bowler', 'Keeper', 'Keeper', 'Keeper-Batsman', 'Batsman', 'Keeper-Batsman', 'Keeper-Batsman', 'Keeper-Batsman', 'Batsman', 'Keeper', 'Batsman', 'Keeper-Batsman', 'Keeper-Batsman', 'Keeper-Batsman', 'Bowler', 'Bowler', 'Keeper', 'Keeper-Batsman', 'Keeper-Batsman', 'Batsman', 'Batsman', 'Keeper-Batsman', 'Keeper-Batsman', 'Batsman', 'Batsman', 'Keeper-Batsman', 'Bowler', 'Batsman', 'Keeper-Batsman', 'Batsman', 'Batsman', 'Batsman', 'Bowler', 'Keeper', 'Keeper-Batsman', 'Keeper-Batsman', 'Keeper-Batsman', 'Bowler', 'Batsman', 'Batsman', 'Bowler', 'Batsman', 'Batsman', 'Keeper-Batsman', 'Batsman', 'Keeper-Batsman', 'Batsman', 'Bowler', 'Keeper-Batsman', 'Keeper-Batsman', 'Batsman', 'Batsman', 'Batsman', 'Keeper-Batsman', 'Batsman', 'Batsman', 'Keeper-Batsman', 'Batsman', 'Batsman', 'Batsman', 'Keeper-Batsman', 'Keeper-Batsman', 'Bowler', 'Keeper-Batsman', 'Bowler', 'Bowler', 'Keeper-Batsman', 'Keeper-Batsman', 'Batsman', 'Batsman', 'Bowler', 'Bowler', 'Keeper', 'Bowler', 'Keeper', 'Batsman', 'Batsman', 'Keeper', 'Keeper-Batsman', 'Keeper', 'Bowler', 'Keeper', 'Keeper-Batsman', 'Batsman', 'Keeper', 'Batsman', 'Keeper-Batsman', 'Keeper-Batsman', 'Keeper-Batsman', 'Keeper', 'Batsman', 'Keeper', 'Keeper-Batsman', 'Keeper-Batsman', 'Keeper-Batsman', 'Keeper-Batsman', 'Keeper', 'Bowler', 'Batsman', 'Batsman', 'Keeper-Batsman', 'Keeper', 'Keeper', 'Keeper', 'Keeper-Batsman', 'Keeper-Batsman', 'Batsman', 'Keeper-Batsman', 'Keeper-Batsman', 'Keeper', 'Keeper-Batsman', 'Bowler', 'Keeper-Batsman', 'Batsman', 'Keeper-Batsman', 'Keeper-Batsman', 'Keeper-Batsman', 'Batsman', 'Keeper-Batsman', 'Batsman', 'Keeper-Batsman', 'Batsman', 'Keeper-Batsman', 'Keeper-Batsman', 'Batsman', 'Batsman', 'Keeper-Batsman', 'Keeper-Batsman', 'Bowler', 'Batsman', 'Keeper-Batsman', 'Batsman', 'Bowler', 'Batsman', 'Keeper-Batsman', 'Bowler', 'Batsman', 'Keeper-Batsman', 'Keeper', 'Keeper-Batsman', 'Keeper-Batsman', 'Bowler', 'Keeper-Batsman', 'Batsman', 'Keeper-Batsman', 'Keeper', 'Bowler', 'Keeper-Batsman', 'Bowler', 'Batsman', 'Bowler', 'Bowler', 'Keeper', 'Keeper-Batsman', 'Batsman', 'Keeper-Batsman', 'Bowler', 'Keeper-Batsman', 'Bowler', 'Batsman', 'Batsman', 'Keeper-Batsman', 'Keeper-Batsman', 'Keeper-Batsman', 'Bowler', 'Keeper', 'Bowler', 'Keeper-Batsman', 'Batsman', 'Batsman', 'Batsman', 'Keeper-Batsman', 'Bowler', 'Bowler', 'Keeper-Batsman', 'Keeper-Batsman', 'Batsman', 'Keeper-Batsman', 'Keeper-Batsman', 'Keeper-Batsman', 'Keeper', 'Keeper-Batsman', 'Batsman', 'Keeper-Batsman', 'Keeper-Batsman', 'Bowler', 'Keeper-Batsman', 'Batsman', 'Batsman', 'Batsman', 'Batsman', 'Bowler', 'Batsman', 'Batsman', 'Keeper-Batsman', 'Bowler', 'Batsman', 'Keeper-Batsman', 'Batsman', 'Batsman', 'Batsman', 'Batsman', 'Batsman', 'Keeper', 'Keeper-Batsman', 'Batsman', 'Bowler', 'Keeper-Batsman', 'Keeper-Batsman', 'Batsman', 'Batsman', 'Batsman', 'Bowler', 'Batsman', 'Keeper', 'Bowler', 'Bowler', 'Keeper', 'Bowler', 'Bowler', 'Keeper', 'Batsman', 'Keeper-Batsman', 'Batsman', 'Keeper-Batsman', 'Bowler', 'Keeper-Batsman', 'Keeper-Batsman', 'Batsman', 'Keeper-Batsman', 'Batsman', 'Keeper-Batsman', 'Keeper-Batsman', 'Batsman', 'Keeper-Batsman', 'Keeper-Batsman', 'Bowler', 'Bowler', 'Bowler', 'Batsman', 'Bowler', 'Keeper-Batsman', 'Keeper-Batsman', 'Batsman', 'Bowler', 'Keeper', 'Keeper-Batsman', 'Batsman', 'Bowler', 'Keeper-Batsman'])\n",
    "skills"
   ]
  },
  {
   "cell_type": "code",
   "execution_count": 223,
   "id": "916e6d7f-a87c-42b8-bf01-f15379e79070",
   "metadata": {},
   "outputs": [],
   "source": [
    "# converting skills to array \n",
    "skills_arr = np.array(skills)"
   ]
  },
  {
   "cell_type": "code",
   "execution_count": 224,
   "id": "4b636f57-dbe6-451e-8cf5-71c62d49143a",
   "metadata": {},
   "outputs": [
    {
     "data": {
      "text/plain": [
       "array([False,  True, False, ...,  True, False, False])"
      ]
     },
     "execution_count": 224,
     "metadata": {},
     "output_type": "execute_result"
    }
   ],
   "source": [
    "# fetch the heights of the batsman\n",
    "skills_arr  == 'Batsman'"
   ]
  },
  {
   "cell_type": "code",
   "execution_count": 225,
   "id": "a872c549-6576-4fea-8156-e5d10e092cef",
   "metadata": {},
   "outputs": [
    {
     "data": {
      "text/plain": [
       "array([1.8796, 1.8542, 1.7526, 1.8034, 1.9304, 1.8542, 1.8542, 1.778 ,\n",
       "       2.0066, 1.8288, 1.8034, 1.905 , 1.9558, 1.8542, 1.905 , 1.8796,\n",
       "       1.8034, 1.8542, 1.8796, 1.9304, 1.905 , 1.9304, 1.8288, 1.905 ,\n",
       "       1.8542, 1.778 , 1.778 , 1.8034, 1.8288, 1.905 , 1.9812, 1.8034,\n",
       "       1.8542, 1.8542, 1.9304, 1.8796, 1.8542, 1.8288, 1.8542, 1.8288,\n",
       "       1.8542, 1.8288, 1.905 , 1.905 , 1.8288, 1.8288, 1.9558, 1.9558,\n",
       "       1.905 , 1.9304, 2.032 , 1.905 , 1.8542, 1.8796, 1.905 , 1.8034,\n",
       "       1.9304, 1.8796, 1.8542, 1.8542, 1.8034, 1.8542, 1.8542, 1.8288,\n",
       "       1.905 , 1.778 , 1.8034, 1.8288, 1.905 , 1.8542, 1.9304, 1.905 ,\n",
       "       1.9304, 1.8288, 1.8542, 1.905 , 1.8796, 1.8034, 1.9558, 1.9812,\n",
       "       1.905 , 1.905 , 1.9304, 1.8288, 1.8288, 1.8542, 1.8796, 1.8796,\n",
       "       1.905 , 1.8542, 1.8796, 1.9558, 1.9812, 1.9812, 1.8796, 1.9812,\n",
       "       1.8796, 1.8288, 1.9304, 1.8542, 1.8542, 1.9558, 1.9558, 1.8034,\n",
       "       1.9812, 1.778 , 1.8796, 1.8288, 1.8542, 1.905 , 1.8796, 1.8542,\n",
       "       1.8796, 1.8542, 1.9812, 1.9304, 1.8542, 1.905 , 1.9812, 1.9558,\n",
       "       1.8288, 1.7526, 1.8796, 1.778 , 1.8796, 1.9304, 1.905 , 1.8542,\n",
       "       1.8542, 1.8542, 1.8796, 1.8796, 1.778 , 1.8796, 1.905 , 1.8288,\n",
       "       1.9558, 1.8542, 1.9304, 1.8542, 1.905 , 1.8796, 1.8542, 1.8034,\n",
       "       1.9304, 1.905 , 1.8542, 1.8542, 1.9304, 1.8542, 1.905 , 1.905 ,\n",
       "       1.9558, 1.8796, 1.8034, 1.8796, 1.8796, 1.905 , 1.8288, 1.8542,\n",
       "       1.9304, 1.9558, 1.8542, 1.778 , 1.8542, 1.8796, 1.9558, 1.905 ,\n",
       "       1.8542, 1.9558, 1.9558, 1.8796, 1.8796, 1.905 , 1.8034, 1.778 ,\n",
       "       2.0066, 1.8796, 1.8288, 2.0828, 1.8796, 1.8796, 1.8288, 1.9304,\n",
       "       1.8542, 1.8288, 1.8288, 1.778 , 1.8034, 1.905 , 1.9304, 1.9304,\n",
       "       1.9812, 1.905 , 1.9304, 1.8288, 1.8542, 1.778 , 1.8796, 1.8542,\n",
       "       1.8542, 1.905 , 1.778 , 2.0066, 1.905 , 1.905 , 1.8542, 1.778 ,\n",
       "       1.8034, 1.905 , 1.8288, 1.8288, 1.9304, 1.905 , 1.7526, 1.8288,\n",
       "       1.9304, 1.8034, 1.905 , 1.9558, 1.778 , 1.8288, 1.8034, 1.8796,\n",
       "       1.9304, 1.8288, 1.8796, 1.8288, 1.8034, 1.778 , 1.8288, 1.8796,\n",
       "       1.8796, 1.905 , 1.8796, 1.8034, 1.8034, 1.9304, 1.8034, 1.8796,\n",
       "       1.8288, 1.9304, 1.9812, 1.8288, 1.9304, 1.778 , 1.7272, 1.8034,\n",
       "       1.9558, 1.7526, 1.905 , 1.905 , 1.9304, 1.8288, 1.9558, 1.778 ,\n",
       "       2.0066, 1.8796, 1.7272, 1.905 , 1.8288, 1.8288, 1.8542, 1.8796,\n",
       "       1.8288, 1.905 , 1.8288, 1.8542, 1.9304, 1.8796, 1.905 , 1.9304,\n",
       "       1.8796, 1.8288, 1.8542, 1.8288, 1.8542, 1.8288, 1.8542, 1.778 ,\n",
       "       1.8288, 1.905 , 1.8542, 1.9304, 1.9558, 1.9558, 1.905 , 1.905 ,\n",
       "       1.9304, 1.8288, 1.8542, 1.8796, 1.8288, 1.8796, 1.8796, 1.905 ,\n",
       "       1.8034, 1.9304, 1.8542, 1.7272, 1.8288, 1.7526, 1.8542, 1.905 ,\n",
       "       1.8796, 1.8796, 1.8796, 1.8542, 1.8796, 1.905 , 1.8796, 1.8542,\n",
       "       1.9304, 1.9812, 1.8542, 1.905 , 1.7018, 1.778 , 1.778 , 2.0066,\n",
       "       1.9304, 1.8288, 1.905 ])"
      ]
     },
     "execution_count": 225,
     "metadata": {},
     "output_type": "execute_result"
    }
   ],
   "source": [
    "players_converted[skills_arr=='Batsman'][:,0]"
   ]
  },
  {
   "cell_type": "code",
   "execution_count": 226,
   "id": "60885af1-6f55-4e63-8a77-d3b517eacc1b",
   "metadata": {},
   "outputs": [
    {
     "name": "stdout",
     "output_type": "stream",
     "text": [
      "Count of batsman in the team :  323\n"
     ]
    }
   ],
   "source": [
    "print(\"Count of batsman in the team : \",len(players_converted[skills_arr=='Batsman'][:,0]))"
   ]
  },
  {
   "cell_type": "markdown",
   "id": "2e17b1c2-6c57-47d4-802d-afeeccf31bb4",
   "metadata": {},
   "source": [
    "## Creating Numpy Arrays Shortcuts"
   ]
  },
  {
   "cell_type": "markdown",
   "id": "68ae2968-4ba0-4ef0-b4da-d00b621973f3",
   "metadata": {},
   "source": [
    "The following ways are commonly used when we know the size of the array before hand <br/>\n",
    "np.ones() : it is used to create the array of ones \n",
    "<br/>\n",
    "np.zeros() : it is used to create the array of zeros\n",
    "<br/>\n",
    "np.random.randint() : it is used to create the random array of integers withing a range\n",
    "<br/>\n",
    "np.random.random() : it is used to create a random array of integers.\n",
    "<br/>\n",
    "np.arange() : it is used to create an array with increments of fixed length size.\n",
    "<br/>\n",
    "np.linspace() : it is used to create an array of equally spaced elements of fixed length\n"
   ]
  },
  {
   "cell_type": "code",
   "execution_count": 227,
   "id": "569d939c-af1f-444f-ab6d-c588729789c1",
   "metadata": {},
   "outputs": [
    {
     "name": "stdout",
     "output_type": "stream",
     "text": [
      "[1. 1. 1. 1. 1.]\n"
     ]
    }
   ],
   "source": [
    "# creating a one dim array of ones of length 5\n",
    "arr = np.ones(5)\n",
    "print(arr)"
   ]
  },
  {
   "cell_type": "code",
   "execution_count": 228,
   "id": "b4a8955f-7b25-4b9f-af09-c45666299a26",
   "metadata": {},
   "outputs": [
    {
     "name": "stdout",
     "output_type": "stream",
     "text": [
      "[1 1 1 1 1]\n"
     ]
    }
   ],
   "source": [
    "# by default it creates an array of float type\n",
    "\n",
    "arr = np.ones(5,dtype=int)\n",
    "print(arr)"
   ]
  },
  {
   "cell_type": "code",
   "execution_count": 229,
   "id": "b39ed770-ff43-4dde-ac32-f6c0f7c2d43d",
   "metadata": {},
   "outputs": [
    {
     "name": "stdout",
     "output_type": "stream",
     "text": [
      "[[1 1 1]\n",
      " [1 1 1]\n",
      " [1 1 1]\n",
      " [1 1 1]\n",
      " [1 1 1]]\n"
     ]
    }
   ],
   "source": [
    "# create a 5x3 array of ones\n",
    "arr_2d = np.ones((5,3),dtype=int)\n",
    "print(arr_2d)"
   ]
  },
  {
   "cell_type": "code",
   "execution_count": 230,
   "id": "f086abae-c03a-47aa-8eab-519ec5d9a22c",
   "metadata": {},
   "outputs": [
    {
     "name": "stdout",
     "output_type": "stream",
     "text": [
      "[0 0 0 0 0]\n"
     ]
    }
   ],
   "source": [
    "# creating an array of zeros\n",
    "arr = np.zeros(5,dtype=int)\n",
    "print(arr)"
   ]
  },
  {
   "cell_type": "code",
   "execution_count": 231,
   "id": "30b4cadf-a86d-468a-8263-2b2d6a355b9a",
   "metadata": {},
   "outputs": [
    {
     "name": "stdout",
     "output_type": "stream",
     "text": [
      "[[0 0 0]\n",
      " [0 0 0]\n",
      " [0 0 0]\n",
      " [0 0 0]\n",
      " [0 0 0]]\n"
     ]
    }
   ],
   "source": [
    "arr_2d = np.zeros((5,3),dtype = int)\n",
    "print(arr_2d)"
   ]
  },
  {
   "cell_type": "code",
   "execution_count": 232,
   "id": "2a9a7103-2754-4a24-97dc-b411747ec432",
   "metadata": {},
   "outputs": [
    {
     "name": "stdout",
     "output_type": "stream",
     "text": [
      "[0, 1, 2, 3, 4, 5, 6, 7, 8, 9]\n"
     ]
    }
   ],
   "source": [
    "# using range func to create list\n",
    "print(list(range(10)))"
   ]
  },
  {
   "cell_type": "code",
   "execution_count": 233,
   "id": "bb190a48-dde0-42f1-916c-aefdf9865411",
   "metadata": {},
   "outputs": [
    {
     "name": "stdout",
     "output_type": "stream",
     "text": [
      "[ 1  2  3  4  5  6  7  8  9 10]\n"
     ]
    }
   ],
   "source": [
    "# similarly we have arange function , arange stands for array range \n",
    "arr = np.arange(1,11,dtype=int)\n",
    "print(arr)\n"
   ]
  },
  {
   "cell_type": "code",
   "execution_count": 234,
   "id": "f173f7a6-b0ca-4b6d-b217-8e9dd147c5e9",
   "metadata": {},
   "outputs": [
    {
     "name": "stdout",
     "output_type": "stream",
     "text": [
      "[ 1  3  5  7  9 11 13 15 17 19]\n"
     ]
    }
   ],
   "source": [
    "# similarly we can define the step size\n",
    "arr1 = np.arange(1,20,2,dtype=int)\n",
    "print(arr1)"
   ]
  },
  {
   "cell_type": "code",
   "execution_count": 235,
   "id": "42aac8ec-c50f-4b97-b19e-f0b31c898d90",
   "metadata": {},
   "outputs": [
    {
     "name": "stdout",
     "output_type": "stream",
     "text": [
      "[6 4 5 4 2]\n"
     ]
    }
   ],
   "source": [
    "# array of random numbers\n",
    "# 1 se 10 ke beech 5 nos\n",
    "arr = np.random.randint(1,10,5,dtype=int)\n",
    "print(arr)"
   ]
  },
  {
   "cell_type": "code",
   "execution_count": 236,
   "id": "c90b174b-8767-4456-9f89-0e9d77822119",
   "metadata": {},
   "outputs": [],
   "source": [
    "#  here it gave 5 random numbers lower bound 1 & upper bound is 10 and total values to be returned are 5"
   ]
  },
  {
   "cell_type": "code",
   "execution_count": 237,
   "id": "b30b06ed-774a-4b32-b4aa-a402b7dfc2f2",
   "metadata": {},
   "outputs": [
    {
     "name": "stdout",
     "output_type": "stream",
     "text": [
      "[[0.57559219 0.60214338 0.02429876]\n",
      " [0.50978214 0.62090606 0.10406688]\n",
      " [0.5815755  0.29223389 0.65776767]\n",
      " [0.78024059 0.46848852 0.5898213 ]\n",
      " [0.59590167 0.15242443 0.70056236]]\n"
     ]
    }
   ],
   "source": [
    "# 2d array with value between 0 to 1\n",
    "arr = np.random.random((5,3))\n",
    "print(arr)"
   ]
  },
  {
   "cell_type": "code",
   "execution_count": 238,
   "id": "3a49fdae-b6ee-4115-af2f-7b3037998675",
   "metadata": {},
   "outputs": [
    {
     "name": "stdout",
     "output_type": "stream",
     "text": [
      "[ 1.          1.47368421  1.94736842  2.42105263  2.89473684  3.36842105\n",
      "  3.84210526  4.31578947  4.78947368  5.26315789  5.73684211  6.21052632\n",
      "  6.68421053  7.15789474  7.63157895  8.10526316  8.57894737  9.05263158\n",
      "  9.52631579 10.        ]\n"
     ]
    }
   ],
   "source": [
    "arr = np.linspace(1,10,20)\n",
    "print(arr)"
   ]
  },
  {
   "cell_type": "code",
   "execution_count": 239,
   "id": "a55bcdc0-e762-41c2-a0fd-50dc7e226f65",
   "metadata": {},
   "outputs": [
    {
     "name": "stdout",
     "output_type": "stream",
     "text": [
      "[[2. 2. 2.]\n",
      " [2. 2. 2.]]\n"
     ]
    }
   ],
   "source": [
    "# create an array of any number\n",
    "\n",
    "arr = np.full((2,3),fill_value = 2.0)\n",
    "print(arr)"
   ]
  },
  {
   "cell_type": "code",
   "execution_count": 240,
   "id": "bbc16db0-3f31-4fee-8ac8-602724b93e4a",
   "metadata": {},
   "outputs": [
    {
     "name": "stdout",
     "output_type": "stream",
     "text": [
      "[[1. 0. 0.]\n",
      " [0. 1. 0.]\n",
      " [0. 0. 1.]]\n"
     ]
    }
   ],
   "source": [
    "# identitiy element\n",
    "arr = np.eye(3)\n",
    "print(arr)"
   ]
  },
  {
   "cell_type": "markdown",
   "id": "ac3e47a5-4c8c-4741-810d-2f6e4ac8f0d1",
   "metadata": {},
   "source": [
    "## Stacking arrays"
   ]
  },
  {
   "cell_type": "markdown",
   "id": "91c8399a-931f-431b-ab31-436c965d6e03",
   "metadata": {},
   "source": [
    "we have the functions np.hstack() and np.vstack() , hstack stands for horizontal stacking for this the nos of rows must be same, vstack stands for the vertical stacking for this the columns must be same."
   ]
  },
  {
   "cell_type": "code",
   "execution_count": 241,
   "id": "51270a45-d73e-47ae-9820-26627a2e7d8c",
   "metadata": {},
   "outputs": [
    {
     "name": "stdout",
     "output_type": "stream",
     "text": [
      "Horizontal Stacking :  [1 2 3 4 5 2 3 4 5 6]\n"
     ]
    }
   ],
   "source": [
    "arr1 = np.array([1,2,3,4,5])\n",
    "arr2 = np.array([2,3,4,5,6])\n",
    "\n",
    "print(\"Horizontal Stacking : \",np.hstack((arr1,arr2)))"
   ]
  },
  {
   "cell_type": "code",
   "execution_count": 242,
   "id": "c21f9b1f-6b45-4b6a-bc22-f209fbbf72c3",
   "metadata": {},
   "outputs": [
    {
     "name": "stdout",
     "output_type": "stream",
     "text": [
      "Vertical Stacking :   [[1 2 3 4 5]\n",
      " [2 3 4 5 6]]\n"
     ]
    }
   ],
   "source": [
    "print(\"Vertical Stacking :  \",np.vstack((arr1,arr2)))"
   ]
  },
  {
   "cell_type": "markdown",
   "id": "f81948bf-fafb-4d1b-8f1b-39388166ed8e",
   "metadata": {},
   "source": [
    "## Broadcasting in Numpy"
   ]
  },
  {
   "cell_type": "markdown",
   "id": "78c0c8e0-5cfc-4112-9b53-aed8fe5e2516",
   "metadata": {},
   "source": [
    "Broadcasting is a powerful feature in NumPy that allows arithmetic operations between arrays of different shapes. Instead of raising an error when shapes mismatch, NumPy tries to adjust the shapes (without copying data) to make the operation possible."
   ]
  },
  {
   "cell_type": "markdown",
   "id": "d3e9460a-acb0-444c-bcb1-71d9a86f36ff",
   "metadata": {},
   "source": [
    "NumPy compares the shapes of two arrays element-wise, starting from the rightmost dimension.<br/>\n",
    "If the dimensions match or one of them is 1, broadcasting is possible."
   ]
  },
  {
   "cell_type": "code",
   "execution_count": 245,
   "id": "0628acb0-0d7a-4bac-aa9f-e20d82439f30",
   "metadata": {},
   "outputs": [
    {
     "name": "stdout",
     "output_type": "stream",
     "text": [
      "[2 4 6]\n"
     ]
    }
   ],
   "source": [
    "#Shape of a: (3,)\n",
    "#Shape of b: () → Broadcasted to (3,)\n",
    "a = np.array([1, 2, 3])\n",
    "b = 2\n",
    "result = a * b\n",
    "print(result)  "
   ]
  },
  {
   "cell_type": "code",
   "execution_count": 246,
   "id": "bd66a740-c891-46ea-b84e-4979ca1bedf5",
   "metadata": {},
   "outputs": [
    {
     "name": "stdout",
     "output_type": "stream",
     "text": [
      "[[11 22 33]\n",
      " [14 25 36]]\n"
     ]
    }
   ],
   "source": [
    "# 2d array with 1 d array\n",
    "#Shape of a: (2, 3)\n",
    "#Shape of b: (3,) → Broadcasted to (2, 3)\n",
    "a = np.array([[1, 2, 3], [4, 5, 6]])\n",
    "b = np.array([10, 20, 30])\n",
    "result = a + b\n",
    "print(result)"
   ]
  },
  {
   "cell_type": "code",
   "execution_count": 247,
   "id": "7229d179-5d5d-4f36-beee-0e2a4d410630",
   "metadata": {},
   "outputs": [
    {
     "name": "stdout",
     "output_type": "stream",
     "text": [
      "(3, 1)\n",
      "(3,)\n",
      "[[11 21 31]\n",
      " [12 22 32]\n",
      " [13 23 33]]\n"
     ]
    }
   ],
   "source": [
    "a = np.array([[1], [2], [3]])\n",
    "b = np.array([10, 20, 30])\n",
    "print(a.shape)\n",
    "print(b.shape)\n",
    "result = a + b\n",
    "print(result)"
   ]
  },
  {
   "cell_type": "code",
   "execution_count": null,
   "id": "1e9d3611-6745-4ba9-a616-f67de8ff11b6",
   "metadata": {},
   "outputs": [],
   "source": []
  }
 ],
 "metadata": {
  "kernelspec": {
   "display_name": "Python 3 (ipykernel)",
   "language": "python",
   "name": "python3"
  },
  "language_info": {
   "codemirror_mode": {
    "name": "ipython",
    "version": 3
   },
   "file_extension": ".py",
   "mimetype": "text/x-python",
   "name": "python",
   "nbconvert_exporter": "python",
   "pygments_lexer": "ipython3",
   "version": "3.12.1"
  }
 },
 "nbformat": 4,
 "nbformat_minor": 5
}
